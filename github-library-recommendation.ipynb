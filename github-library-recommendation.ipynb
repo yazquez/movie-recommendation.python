{
 "cells": [
  {
   "cell_type": "markdown",
   "metadata": {},
   "source": [
    "."
   ]
  },
  {
   "cell_type": "markdown",
   "metadata": {},
   "source": [
    "<span style=\"color: #8B008B; font-family: Arial; font-size: 3em;\">Sistema de recomendación de librerías Python</span>"
   ]
  },
  {
   "cell_type": "markdown",
   "metadata": {},
   "source": [
    " <span style=\"color:#4B0082; font-family: Arial; font-size: 2em;\">José Pérez Yázquez</span>"
   ]
  },
  {
   "cell_type": "markdown",
   "metadata": {},
   "source": [
    "---"
   ]
  },
  {
   "cell_type": "markdown",
   "metadata": {},
   "source": [
    "# Introducción"
   ]
  },
  {
   "cell_type": "markdown",
   "metadata": {},
   "source": [
    "El presente proyecto implementa una propuesta de recomendador de librerías Python, la idea es que dado un proyecto que estemos desarrollando, nos recomiende librerías que otros proyectos similares han usado. Para ello usa como \"corpus\" la BBDD por excelencia de código, **Github**, y como medida de similitud sus descripciones y las librerías que ya compartan.\n",
    "\n",
    "El proyecto consta de dos fases, en la primera de ellas obtendremos todos los metadatos de los proyectos usando la API Rest de Github y en la segunda parte, basándonos en esos metadatos construiremos el sistema de recomendación \n",
    "\n",
    "\n",
    "\n",
    "        "
   ]
  },
  {
   "cell_type": "markdown",
   "metadata": {},
   "source": [
    "# Carga y procesamiento de datos\n",
    "        "
   ]
  },
  {
   "cell_type": "markdown",
   "metadata": {},
   "source": [
    "Esta fase se divide a su vez en tres subfases:\n",
    " 1. Recopilación de la información de los proyectos\n",
    " 2. Clonado de los proyectos\n",
    " 3. Procesamiento de los proyectos clonados"
   ]
  },
  {
   "cell_type": "markdown",
   "metadata": {},
   "source": [
    "## 1. Recopilación de la información de los proyectos"
   ]
  },
  {
   "cell_type": "markdown",
   "metadata": {},
   "source": [
    "Usando la API Rest de Github descarga la información, metadatos, de todos los proyectos que cumplen una serie de criterios, estos serán los siguientes:\n",
    "  - Identificados como proyectos Python\n",
    "  - Creado entre el 1 de Enero de 2012 y hasta la fecha actual\n",
    "  - Con un mínimo de 10 estrellas\n",
    "\n",
    "Toda la información es almacenada en MongoDB concretamente en una colección llamada **projects** de una BD llamada **github**, la información almacenada es la siguiente:\n",
    " - id: \n",
    " - name\n",
    " - full_name\n",
    " - created_at\n",
    " - git_url\n",
    " - description\n",
    " - language\n",
    " - stars\n",
    " - done: Se usa a nivel interno, indica si un proyecto está procesado, esto es identificados las librerías que usa y el fichero README cargado, en los puntos siguientes se detallan estos dos datos\n",
    " - readme_txt: Almacenará el texto de los ficheros README de los proyectos, será la información base para el sistema de recomendación\n",
    " - library: Lista con las librerías que el proyecto usa, en principio estará vacía y se alimentará cuando se procese el proyecto\n",
    " - raw_data: toda la información del proyecto sin procesar por si más adelante es necesario algún dato que en estos momentos no parece relevante\n",
    "\n",
    "Cuando se usa la API de Github sin autenticación existen una serie de límites que no podemos superar, el primero es que el número máximo de resultados que cualquier consulta puede devolver\n",
    "es de 1000, para salvar este impedimento, vamos a realizar sucesivas consultas restringiendo las llamadas a un solo día del intervalo que vamos a cubrir.\n",
    "\n",
    "Por otra parte, existe otra restricción en el uso de la API, el número de llamadas por minuto está limitado a 60, podríamos incrementar esta cantidad si las llamadas son autenticadas,\n",
    "esto es usar por ejemplo un \"client ID\" y \"secret\"  como partes de la consulta, pero vamos abordar una estrategia diferente. Se irán realizando las consultas sin atender a los límites y cuando ese límite se supere, se suspenderá el proceso durante 61 segundos y posteriormente se reanudará\n",
    "por el punto en el que iba.\n",
    "\n",
    "Si se desea consultar los límites comentados, podemos hacer una consulta, por ejemplo usando curl"
   ]
  },
  {
   "cell_type": "markdown",
   "metadata": {},
   "source": [
    "curl -i https://api.github.com/users/octocat\n",
    "\n",
    "HTTP/1.1 200 OK\n",
    "Date: Mon, 01 Jul 2013 17:27:06 GMT\n",
    "Status: 200 OK\n",
    "X-RateLimit-Limit: 60\n",
    "X-RateLimit-Remaining: 56\n",
    "X-RateLimit-Reset: 1372700873\n"
   ]
  },
  {
   "cell_type": "markdown",
   "metadata": {},
   "source": [
    "En la cabecera de la respuesta nos muestra los límites con el valor actual:\n",
    "\n",
    " - **X-RateLimit-Limit**       Número máximo de solicitudes que se le permite hacer por hora.\n",
    " - **X-RateLimit-Remaining**   Número de solicitudes restantes en la ventana de límite de velocidad actual.\n",
    " - **X-RateLimit-Reset**       Hora a la que se restablece la ventana de límite de velocidad actual en segundos UTC."
   ]
  },
  {
   "cell_type": "markdown",
   "metadata": {},
   "source": [
    "En primer lugar vamos a cargar las librerías necesarias para esta fase del proyecto"
   ]
  },
  {
   "cell_type": "code",
   "execution_count": 8,
   "metadata": {
    "collapsed": true
   },
   "outputs": [],
   "source": [
    "import requests\n",
    "import json\n",
    "import os\n",
    "from time import sleep\n",
    "from pymongo import MongoClient\n",
    "from datetime import date, timedelta"
   ]
  },
  {
   "cell_type": "markdown",
   "metadata": {},
   "source": [
    "A continuación vamos a definir una serie de constantes que serán usadas en el código, de esta manera podremos cambiar facilimente alguno de estos valores.\n",
    "El significado de cada una de ellas es el siguiente:\n",
    " - MIN_STARTS: Número mínimo de estrellas que tiene que tener un proyecto para ser considerado\n",
    " - START_DATE: Fecha de inicio del intervalo, haciendo referencia a la fecha de creación del proyecto en Github\n",
    " - END_DATE: Fecha de fin del intervalo\n",
    " - URL_PATTERN: Patrón de la URL para la consulta a la API de Github, podemos ver que filtramos por lenguaje (Python), por fecha de creación (la suministraremos durante la ejecución) y por numero de estrellas (referido a la constante comentada anteriormente).\n",
    " - ROOT_PATH: Directorio raiz donde clonaremos los repositorios\n",
    " - CLONE_COMMAND: Comando usado para clonar los repositorios"
   ]
  },
  {
   "cell_type": "code",
   "execution_count": 10,
   "metadata": {
    "collapsed": false
   },
   "outputs": [],
   "source": [
    "MIN_STARTS = 10\n",
    "START_DATE = date(2012, 1, 1)\n",
    "END_DATE = date(2017, 8, 28)\n",
    "URL_PATTERN = 'https://api.github.com/search/repositories?q=language:Python+created:{0}+stars:>={1}&type=Repositories'\n",
    "ROOT_PATH = \"d:/tmp/\"\n",
    "CLONE_COMMAND = \"git clone {0} {1}\""
   ]
  },
  {
   "cell_type": "markdown",
   "metadata": {},
   "source": [
    "Como se ha comentado anteriormente, vamos a usar MongoDB como tecnología de persistencia, vamos a definir una funcion que nos devuelva una referencia a la colección de proyectos con la que estamos trabajando."
   ]
  },
  {
   "cell_type": "code",
   "execution_count": 3,
   "metadata": {
    "collapsed": true
   },
   "outputs": [],
   "source": [
    "def get_repository():\n",
    "    client = MongoClient('localhost', 27017)\n",
    "    db = client.github2\n",
    "    return db.projects"
   ]
  },
  {
   "cell_type": "markdown",
   "metadata": {},
   "source": [
    "La siguiente función es la que realmente hace las llamadas a la API, tendrá como entrada la fecha de creación de los proyectos, usará la URL que hemos definicdo como constante."
   ]
  },
  {
   "cell_type": "code",
   "execution_count": 4,
   "metadata": {
    "collapsed": true
   },
   "outputs": [],
   "source": [
    "def get_projects_by_date(date):\n",
    "    print(\"Processing date \", date)\n",
    "    url_pattern = URL_PATTERN\n",
    "    url = url_pattern.format(date, MIN_STARTS)\n",
    "    response = requests.get(url)\n",
    "    if (response.ok):\n",
    "        response_data = json.loads(response.content.decode('utf-8'))['items']\n",
    "        for project in response_data:\n",
    "            insert_project(project)\n",
    "    else:\n",
    "        response.raise_for_status()"
   ]
  },
  {
   "cell_type": "markdown",
   "metadata": {},
   "source": [
    "A continuanción definimos otra función auxiliar, que dada la información de la respuesta de la API, selecciona la que vamos a necesitar y lo inserta como un documento Mongo. Adicionalmente crea las propiedades mencionadas previamente."
   ]
  },
  {
   "cell_type": "code",
   "execution_count": 6,
   "metadata": {
    "collapsed": true
   },
   "outputs": [],
   "source": [
    "def insert_project(github_project):\n",
    "    if projects.find_one({\"id\": github_project[\"id\"]}):\n",
    "        print(\"Project {0} is already included in the repository\".format(github_project[\"name\"]))\n",
    "    else:\n",
    "        project = {\n",
    "            'id': github_project[\"id\"],\n",
    "            'name': github_project[\"name\"],\n",
    "            'full_name': github_project[\"full_name\"],\n",
    "            'created_at': github_project[\"id\"],\n",
    "            'git_url': github_project[\"git_url\"],\n",
    "            'description': github_project[\"description\"],\n",
    "            'language': github_project[\"language\"],\n",
    "            'stars': github_project[\"stargazers_count\"],\n",
    "            'done': False,\n",
    "            'readme_txt': \"\",\n",
    "            'library': [],\n",
    "            'raw_data': github_project\n",
    "        }\n",
    "        projects.insert(project)"
   ]
  },
  {
   "cell_type": "markdown",
   "metadata": {},
   "source": [
    "Finalmente ejecutamos el programa que, usando las funciones anteriormente definidas, descarga la información de los proyectos y la inserta en la BBDD, podemos observar que descompone las llamadas para traer en cada una de ellas solo los proyectos de un determinado dia y que *\"gestiona\"* las restricciones que tenemos en cuanto a llamada en la ventana de tiempo actual. En primer lugar recuperamos la colección en la que vamos a insertar los proyectos."
   ]
  },
  {
   "cell_type": "code",
   "execution_count": null,
   "metadata": {
    "collapsed": true
   },
   "outputs": [],
   "source": [
    "projects = get_repository()"
   ]
  },
  {
   "cell_type": "markdown",
   "metadata": {
    "collapsed": true
   },
   "source": [
    "Y cargamos los proyectos en la colección"
   ]
  },
  {
   "cell_type": "code",
   "execution_count": null,
   "metadata": {
    "collapsed": true
   },
   "outputs": [],
   "source": [
    "for project_create_at in [START_DATE + timedelta(days=x) for x in range((END_DATE - START_DATE).days + 1)]:\n",
    "    try:\n",
    "        get_projects_by_date(project_create_at)\n",
    "    except:\n",
    "        print(\">> Reached call limit, waiting 61 seconds...\")\n",
    "        sleep(61)\n",
    "        get_projects_by_date(project_create_at)"
   ]
  },
  {
   "cell_type": "markdown",
   "metadata": {},
   "source": [
    "En este punto tendriamos cargada toda la información que necesitamos de Github."
   ]
  },
  {
   "cell_type": "markdown",
   "metadata": {},
   "source": [
    " ## 2. Clonado de los proyectos"
   ]
  },
  {
   "cell_type": "markdown",
   "metadata": {},
   "source": [
    "Para analizar las librerias que un proyecto utiliza, un camino podría ser buscar los ficheros **requirements** de cada proyecto y parsear esa información, pero dicho fichero no está presente en una gran cantidad de proyectos, por lo que se ha optado por un camino un poco más **radical**.\n",
    "\n",
    "Usando la información cargada en el paso anterior, fundamentalmente la propiedad **git_url**, vamos a clonar cada proyecto en local para posteriormente procesarlos.\n",
    "\n",
    "**NOTA**: Filtramos por los proyectos que no están procesados y nos aseguramos que el directorio no existe, porque este código, dado que puede tardar bastante, lo vamos a ejecutar en diferentes momentos."
   ]
  },
  {
   "cell_type": "code",
   "execution_count": 11,
   "metadata": {
    "collapsed": false
   },
   "outputs": [
    {
     "ename": "NameError",
     "evalue": "name 'projects' is not defined",
     "output_type": "error",
     "traceback": [
      "\u001b[1;31m\u001b[0m",
      "\u001b[1;31mNameError\u001b[0mTraceback (most recent call last)",
      "\u001b[1;32m<ipython-input-11-5401b451f8e4>\u001b[0m in \u001b[0;36m<module>\u001b[1;34m()\u001b[0m\n\u001b[0;32m      1\u001b[0m \u001b[0mos\u001b[0m\u001b[1;33m.\u001b[0m\u001b[0mchdir\u001b[0m\u001b[1;33m(\u001b[0m\u001b[0mROOT_PATH\u001b[0m\u001b[1;33m)\u001b[0m\u001b[1;33m\u001b[0m\u001b[0m\n\u001b[0;32m      2\u001b[0m \u001b[1;33m\u001b[0m\u001b[0m\n\u001b[1;32m----> 3\u001b[1;33m \u001b[1;32mfor\u001b[0m \u001b[0mproject\u001b[0m \u001b[1;32min\u001b[0m \u001b[0mprojects\u001b[0m\u001b[1;33m.\u001b[0m\u001b[0mfind\u001b[0m\u001b[1;33m(\u001b[0m\u001b[1;33m{\u001b[0m\u001b[1;34m'done'\u001b[0m\u001b[1;33m:\u001b[0m\u001b[1;32mFalse\u001b[0m\u001b[1;33m}\u001b[0m\u001b[1;33m)\u001b[0m\u001b[1;33m:\u001b[0m\u001b[1;33m\u001b[0m\u001b[0m\n\u001b[0m\u001b[0;32m      4\u001b[0m     \u001b[0mpath\u001b[0m \u001b[1;33m=\u001b[0m \u001b[0mROOT_PATH\u001b[0m \u001b[1;33m+\u001b[0m \u001b[1;34m\"/\"\u001b[0m \u001b[1;33m+\u001b[0m \u001b[0mstr\u001b[0m\u001b[1;33m(\u001b[0m\u001b[0mproject\u001b[0m\u001b[1;33m[\u001b[0m\u001b[1;34m\"id\"\u001b[0m\u001b[1;33m]\u001b[0m\u001b[1;33m)\u001b[0m\u001b[1;33m\u001b[0m\u001b[0m\n\u001b[0;32m      5\u001b[0m     \u001b[1;32mif\u001b[0m \u001b[1;32mnot\u001b[0m \u001b[0mos\u001b[0m\u001b[1;33m.\u001b[0m\u001b[0mpath\u001b[0m\u001b[1;33m.\u001b[0m\u001b[0misdir\u001b[0m\u001b[1;33m(\u001b[0m\u001b[0mpath\u001b[0m\u001b[1;33m)\u001b[0m\u001b[1;33m:\u001b[0m\u001b[1;33m\u001b[0m\u001b[0m\n",
      "\u001b[1;31mNameError\u001b[0m: name 'projects' is not defined"
     ]
    }
   ],
   "source": [
    "os.chdir(ROOT_PATH)\n",
    "\n",
    "for project in projects.find({'done':False}):\n",
    "    path = ROOT_PATH + \"/\" + str(project[\"id\"])\n",
    "    if not os.path.isdir(path):\n",
    "        os.system(CLONE_COMMAND.format(project[\"git_url\"], project[\"id\"]))"
   ]
  },
  {
   "cell_type": "markdown",
   "metadata": {
    "collapsed": true
   },
   "source": [
    "En este punto tendríamos clonados todos los repositorios con los que construiremos el sistema de recomendación."
   ]
  },
  {
   "cell_type": "markdown",
   "metadata": {},
   "source": [
    "## 3. Procesamiento de los proyectos clonados"
   ]
  },
  {
   "cell_type": "markdown",
   "metadata": {
    "collapsed": true
   },
   "source": [
    "Comenzamos esta etapa definiendo una función que dado un fichero python (extenxión **.py**), lo recorre linea por linea y, usando expresiones regulares, buscamos todas las librerias que se estén usando.\n",
    "Almacenamos esta lista en la propiedad **library** del proyecto en cuestión."
   ]
  },
  {
   "cell_type": "code",
   "execution_count": null,
   "metadata": {
    "collapsed": true
   },
   "outputs": [],
   "source": [
    "def process_python_file(project, file_path):\n",
    "    def add_to_list(item):\n",
    "        if not item in library:\n",
    "            library.append(item)\n",
    "\n",
    "    library = project['library']\n",
    "    pattern = '(?m)^(?:from[ ]+(\\S+)[ ]+)?import[ ]+(\\S+)[ ]*$'\n",
    "    with open(file_path, 'r', encoding='utf-8') as f:\n",
    "        for line in f:\n",
    "            match = re.search(pattern, line)\n",
    "            if match:\n",
    "                if match.group(1) != None:\n",
    "                    add_to_list(match.group(1))\n",
    "                else:\n",
    "                    add_to_list(match.group(2))\n",
    "    project['library'] = library\n",
    "    projects.update({'_id': project['_id']}, {\"$set\": project}, upsert=False)"
   ]
  },
  {
   "cell_type": "markdown",
   "metadata": {},
   "source": [
    "Por otra parte, definimos también una función que dado un fichero README lo lee y lo almacena en la propiedad **readme_txt**"
   ]
  },
  {
   "cell_type": "code",
   "execution_count": null,
   "metadata": {
    "collapsed": true
   },
   "outputs": [],
   "source": [
    "def process_readme_file(project, file_path):\n",
    "    with open(file_path, 'r') as f:\n",
    "        project['readme_txt'] = f.read()\n",
    "        projects.update({'_id': project['_id']}, {\"$set\": project}, upsert=False)"
   ]
  },
  {
   "cell_type": "markdown",
   "metadata": {},
   "source": [
    "Finalmente recorremos los repositorios no procesados, como comentabamos anteriormente este proceso podría ser necesario lanzarlo reiteradas veces, para cada repositorio analizamos su fichero README y cada uno de los ficheros Python para extraer las librerías."
   ]
  },
  {
   "cell_type": "code",
   "execution_count": null,
   "metadata": {
    "collapsed": true
   },
   "outputs": [],
   "source": [
    "for project in projects.find({'done':False}):\n",
    "    try:\n",
    "        print(\".\",end=\"\")\n",
    "        path = ROOT_PATH.format(project[\"id\"])\n",
    "        if os.path.isdir(path):\n",
    "            print(\"Processing project: \", project[\"id\"])\n",
    "            project['done'] = True\n",
    "            projects.update({'_id': project['_id']}, {\"$set\": project}, upsert=False)\n",
    "            for root, dirs, files in os.walk(path):\n",
    "                for file in files:\n",
    "                    try:\n",
    "                        if file.endswith(\".py\"):\n",
    "                            process_python_file(project, os.path.join(root, file))\n",
    "                        else:\n",
    "                            if file.lower().startswith(\"readme.\"):\n",
    "                                process_readme_file(project, os.path.join(root, file))\n",
    "                    except:\n",
    "                        pass\n",
    "    except:\n",
    "        print(\"Error procesing project {0} [{1}] - {2}\".format(project['id'], project['name'], sys.exc_info()[0]))"
   ]
  },
  {
   "cell_type": "markdown",
   "metadata": {},
   "source": [
    "En este punto, tendríamos una colección MongoDB con cada uno de los proyectos de nuestro **pre-corpus** con la lista de librerías que cada proyecto usa así como su descripción **extendida** extraida de su fichero READMA. Estaríamos en disposición por tanto de comenzar la implementación de nuestro recomendador."
   ]
  },
  {
   "cell_type": "markdown",
   "metadata": {},
   "source": [
    "# Implementación del recomendador"
   ]
  },
  {
   "cell_type": "markdown",
   "metadata": {},
   "source": [
    "## Principios teóricos"
   ]
  },
  {
   "cell_type": "markdown",
   "metadata": {},
   "source": [
    "Para identificar la similitud entre los proyectos basándonos en su descripción, entendiéndose como tal su fichero README, utilizamos el \"análisis semántico latente\" (LSA, usando la abreviatura en inglés), que es una técnica ampliamente utilizada en el procesamiento del lenguaje natural. LSA transforma cada texto en un vector, en un espacio de características. En nuestro caso, las características son palabras que ocurren en las descripciones. A continuación, se crea una matriz que contiene todos los vectores: las columnas representan las descripciones de los proyectos y las filas representan palabras únicas. Por consiguiente, el número de filas puede ascender a decenas de miles de palabras. \n",
    "\n",
    "Con el fin de identificar las características relevantes de esta matriz, usaremos la \"descomposición de valores singulares\" (SVD, usando la abreviatura en inglés), que es una técnica de reducción de dimensión, se utiliza para reducir el número de líneas -palabras-, manteniendo y resaltando la similitud entre columnas-descripción -. La dimensión de esta matriz de aproximación se establece mediante un hiperparámetro que es el número de temas, comúnmente llamado como tópicos. En este marco, un tópico consiste en un conjunto de palabras con pesos asociados que definen la contribución de cada palabra a la dirección de este tópico. Basándose en esta matriz de aproximación de baja dimensión, la similitud entre dos columnas -descripciones- se calcula utilizando el coseno del ángulo entre estos dos vectores.\n"
   ]
  },
  {
   "cell_type": "markdown",
   "metadata": {},
   "source": [
    "# Implementación del recomendador"
   ]
  },
  {
   "cell_type": "markdown",
   "metadata": {},
   "source": [
    "   ## Importación de librerías y módulos\n",
    "        "
   ]
  },
  {
   "cell_type": "markdown",
   "metadata": {
    "collapsed": true
   },
   "source": [
    "Comenzamos importando las librerías que vamos a usar en esta fase del proyecto."
   ]
  },
  {
   "cell_type": "code",
   "execution_count": 36,
   "metadata": {
    "collapsed": true
   },
   "outputs": [],
   "source": [
    "%matplotlib inline\n",
    "import warnings\n",
    "warnings.filterwarnings('ignore')"
   ]
  },
  {
   "cell_type": "code",
   "execution_count": 37,
   "metadata": {
    "collapsed": false
   },
   "outputs": [],
   "source": [
    "import nltk\n",
    "import json\n",
    "import itertools\n",
    "import numpy as np\n",
    "import matplotlib.pyplot as plt\n",
    "from pymongo import MongoClient\n",
    "from nltk.tokenize import RegexpTokenizer\n",
    "from nltk.corpus import stopwords\n",
    "from nltk.stem import SnowballStemmer\n",
    "from gensim import corpora, models, similarities, matutils"
   ]
  },
  {
   "cell_type": "markdown",
   "metadata": {},
   "source": [
    "### Carga de los datos\n",
    "\n",
    "Definimos una funcion para cargar los datos de los proyectos, entre los datos a cargar está el fichero **readme** y las librerías usadas, datos que serán los que usemos para calcular las similitudes entre los proyectos."
   ]
  },
  {
   "cell_type": "code",
   "execution_count": 38,
   "metadata": {
    "collapsed": true
   },
   "outputs": [],
   "source": [
    "def load_projects3(max_projects=90000):\n",
    "    projects = get_repository()\n",
    "    projects = []\n",
    "\n",
    "    for project in projects.find({'done': True}).limit(1000):\n",
    "        project = dict()\n",
    "        project['id'] = project['id']\n",
    "        project['name'] = project['name']\n",
    "        project['date'] = project['created_at']\n",
    "        project['libraries'] = project['library']\n",
    "        project['readme_txt'] = project['readme_txt']\n",
    "        projects.append(project)\n",
    "\n",
    "    return projects\n",
    "\n",
    "\n",
    "def load_projects(max_projects=90000):\n",
    "    def load_plot_summaries():\n",
    "        plot_summaries_file = open(\"data/plot_summaries.txt\", \"r\", encoding=\"utf8\")\n",
    "        # plot_summaries_file = open(\"data/plot_summaries.txt\", \"r\", encoding=\"utf8\")\n",
    "        plot_summaries = dict()\n",
    "        for plot_readme_txt_line in plot_summaries_file:\n",
    "            plot_readme_txt_data = plot_readme_txt_line.split('\\t')\n",
    "            # Summaries structure\n",
    "            # [0] Wikipedia project ID\n",
    "            # [1] Summary plot\n",
    "            plot_readme_txt = dict()\n",
    "            plot_readme_txt['id'] = plot_readme_txt_data[0]\n",
    "            plot_readme_txt['readme_txt'] = plot_readme_txt_data[1]\n",
    "\n",
    "            plot_summaries[plot_readme_txt['id']] = plot_readme_txt\n",
    "\n",
    "        return plot_summaries\n",
    "\n",
    "    print(\"Cargando datos de proyectos...\")\n",
    "\n",
    "    plot_summaries = load_plot_summaries()\n",
    "\n",
    "    metadata_file = open(\"data/movie.metadata.tsv\", encoding=\"utf8\")\n",
    "    # metadata_file = open(\"data/project.metadata.tsv\", \"r\", encoding=\"utf8\")\n",
    "    projects = []\n",
    "\n",
    "    projects_count = 0\n",
    "\n",
    "    for metadata_line in metadata_file:\n",
    "        project_metadata = metadata_line.split('\\t')\n",
    "        id = project_metadata[0]\n",
    "\n",
    "        # Añadimos la proyecto solo si tiene sinopsis, incluimos una lista con las claves de los generos\n",
    "        if (id in plot_summaries) & (projects_count < max_projects):\n",
    "            projects_count += 1\n",
    "            project = dict()\n",
    "            project['id'] = id\n",
    "            project['name'] = project_metadata[2]\n",
    "            project['date'] = project_metadata[3]\n",
    "            project['libraries'] = list(json.loads(project_metadata[8].replace(\"\\\"\\\"\", \"\\\"\").replace(\"\\\"{\", \"{\").replace(\"}\\\"\", \"}\")).values())\n",
    "            project['readme_txt'] = plot_summaries[id].get('readme_txt')\n",
    "            projects.append(project)\n",
    "\n",
    "    print(\"Número de proyectos cargadas:\", len(projects))\n",
    "\n",
    "    return projects"
   ]
  },
  {
   "cell_type": "markdown",
   "metadata": {},
   "source": [
    "Usando la funcíon anterior cargamos los datos, dado que el proceso es bastante pesado solo cargaremos un subconjunto de las mismas"
   ]
  },
  {
   "cell_type": "code",
   "execution_count": 39,
   "metadata": {
    "collapsed": false
   },
   "outputs": [
    {
     "name": "stdout",
     "output_type": "stream",
     "text": [
      "Cargando datos de proyectos...\n",
      "Número de proyectos cargadas: 1000\n"
     ]
    }
   ],
   "source": [
    "projects = load_projects(1000)"
   ]
  },
  {
   "cell_type": "markdown",
   "metadata": {},
   "source": [
    "## Preprocesamiento de las descripciones\n",
    " \n",
    "A continuación procesamos las sinopsis, quedándonos con las palabras diferentes que encontramos en cada una de ellas, en primer lugar, eliminamos puntuaciones y palabras irrelevantes como nombres personales y palabras comunes que no aportan signficado (denominados \"stop words\"). Esto evitará que se formen tópicos en torno a ellos\n",
    "\n",
    "Además, utilizamos el stemmer Snowball, también llamado Porter2 stemmer, para detectar palabras similares presentes en diferentes formatos (eliminar sufijo, prefijo, etc.). Snowball es un lenguaje desarrollado por M.F. Porter, para definir de forma eficiente stemmers. Este algoritmo de derivación es el más utilizado en el dominio del procesamiento del lenguaje natural.\n",
    "\n",
    "Para hacer el procesamietno usaremos la librería nltk( Natural Language Toolkit) proporciona un gran número de métodos que cubren diferentes temas en el dominio de los datos del lenguaje humano, como la clasificación, derivación, etiquetado, análisis y razonamiento semántico.\n",
    "\n"
   ]
  },
  {
   "cell_type": "code",
   "execution_count": 40,
   "metadata": {
    "collapsed": false
   },
   "outputs": [],
   "source": [
    "tokenizer = RegexpTokenizer(r'\\w+')\n",
    "stop_words = set(stopwords.words('english'))\n",
    "stemmer = SnowballStemmer(\"english\")"
   ]
  },
  {
   "cell_type": "markdown",
   "metadata": {},
   "source": [
    "Creamos una función que dado un texto lo descompone en las palabras con significado que lo componen"
   ]
  },
  {
   "cell_type": "code",
   "execution_count": 41,
   "metadata": {
    "collapsed": true
   },
   "outputs": [],
   "source": [
    "def get_words(text):\n",
    "    def add_word(word):\n",
    "        word = word.lower()\n",
    "        if word not in stop_words:\n",
    "            words.append(stemmer.stem(word))\n",
    "\n",
    "    words = []\n",
    "    for chunk in nltk.ne_chunk(nltk.pos_tag(tokenizer.tokenize(text))):\n",
    "        # nltk.word_tokenize    devuelve la lista de palabras que forman la frase (tokenización)\n",
    "        # nltk.pos_tag          devuelve el part of speech (categoría) correspondiente a la palabra introducida\n",
    "        # nltk.ne_chunk         devuelve la etiqueta correspondiente al part of speech (POC)\n",
    "        try:\n",
    "            if chunk.label() == 'PERSON':\n",
    "                # PERSON es un POC asociado a los nombres propios, los cuales no vamos a añadir\n",
    "                pass\n",
    "            else:\n",
    "                for c in chunk.leaves():\n",
    "                    add_word(c[0])\n",
    "        except AttributeError:\n",
    "            add_word(chunk[0])\n",
    "\n",
    "    return words"
   ]
  },
  {
   "cell_type": "markdown",
   "metadata": {},
   "source": [
    "Creamos una función que aplica la función anterior a los resúmenes de todos los proyectos."
   ]
  },
  {
   "cell_type": "code",
   "execution_count": 42,
   "metadata": {
    "collapsed": true
   },
   "outputs": [],
   "source": [
    "def get_global_texts(projects):\n",
    "    print(\"Extrayendo palabras de los textos...\")\n",
    "    global_texts = []\n",
    "\n",
    "    [global_texts.append(get_words(project['readme_txt'])) for project in projects]\n",
    "\n",
    "    return global_texts"
   ]
  },
  {
   "cell_type": "markdown",
   "metadata": {},
   "source": [
    "Finalmente ejecutamos la función que acabamos de definir, tendremos una lista de listas, en la que para cada proyecto tendremos las palabras que lo definen."
   ]
  },
  {
   "cell_type": "code",
   "execution_count": 43,
   "metadata": {
    "collapsed": false
   },
   "outputs": [
    {
     "name": "stdout",
     "output_type": "stream",
     "text": [
      "Extrayendo palabras de los textos...\n"
     ]
    }
   ],
   "source": [
    "global_texts = get_global_texts(projects)"
   ]
  },
  {
   "cell_type": "markdown",
   "metadata": {},
   "source": [
    "A modo de ejemplo, mostramos las 5 primeras entradas del primer proyecto"
   ]
  },
  {
   "cell_type": "code",
   "execution_count": 44,
   "metadata": {
    "collapsed": false
   },
   "outputs": [
    {
     "data": {
      "text/plain": [
       "['set', 'second', 'half', '22nd', 'centuri']"
      ]
     },
     "execution_count": 44,
     "metadata": {},
     "output_type": "execute_result"
    }
   ],
   "source": [
    "global_texts[0][:5]"
   ]
  },
  {
   "cell_type": "markdown",
   "metadata": {},
   "source": [
    "## Creación del diccionario\n",
    " \n",
    "El diccionario está formado por la concatenación de todas las palabras que aparecen en algún resumen de alguno de los proyectos. Básicamente esta función mapea cada palabra única con su identificador. Es decir, si tenemos N palabras, lo que conseguiremos al final es que cada proyecto sea representada mediante un vector en un espacio de N dimensiones.\n",
    " \n",
    "Para ello, partiendo de la lista creada en el paso anterior, usaremos la función **corpora** del paquete **gensim**.\n",
    "\n",
    "El diccionario consiste en una concatenación de palabras únicas de todas las sinopsis. Gensim es una biblioteca eficiente para analizar la similitud semántica latente entre documentos.\n",
    "Este módulo implementa el concepto de Diccionario - un mapeo entre palabras y\n",
    "sus entes ids.\n",
    "\n",
    "Los diccionarios pueden ser creados a partir de un corpus y luego pueden ser\n",
    "frecuencia del documento (eliminación de palabras comunes mediante el método func: `Dictionary.filter_extremes`),\n",
    "guardado / cargado desde el disco (vía: func: `Dictionary.save` y: func:` Dictionary.load`), fusionado\n",
    "con otro diccionario (: func: `Dictionary.merge_with`) etc."
   ]
  },
  {
   "cell_type": "code",
   "execution_count": 45,
   "metadata": {
    "collapsed": false
   },
   "outputs": [
    {
     "data": {
      "text/plain": [
       "<gensim.corpora.dictionary.Dictionary at 0x20355679dd8>"
      ]
     },
     "execution_count": 45,
     "metadata": {},
     "output_type": "execute_result"
    }
   ],
   "source": [
    "dictionary = corpora.Dictionary(global_texts)\n",
    "dictionary"
   ]
  },
  {
   "cell_type": "markdown",
   "metadata": {},
   "source": [
    "**Esta función asigna palabras únicas con sus ids. En nuestro caso, la longitud del diccionario es igual a 15035 palabras lo que significa que cada sinopsis será representada a través de un espacio vectorial de 15035 dimensiones.**\n",
    "\n",
    "Mostramos las primeras 10 entradas"
   ]
  },
  {
   "cell_type": "code",
   "execution_count": 46,
   "metadata": {
    "collapsed": false
   },
   "outputs": [
    {
     "data": {
      "text/plain": [
       "[('verifi', 9375),\n",
       " ('journey', 1508),\n",
       " ('characterist', 4178),\n",
       " ('decid', 41),\n",
       " ('deni', 1238),\n",
       " ('rebus', 8963),\n",
       " ('smarter', 7924),\n",
       " ('painkil', 4744),\n",
       " ('gutter', 5966),\n",
       " ('kungfu', 4416)]"
      ]
     },
     "execution_count": 46,
     "metadata": {},
     "output_type": "execute_result"
    }
   ],
   "source": [
    "list(itertools.islice(dictionary.token2id.items(), 0, 10))"
   ]
  },
  {
   "cell_type": "code",
   "execution_count": null,
   "metadata": {
    "collapsed": true
   },
   "outputs": [],
   "source": []
  },
  {
   "cell_type": "markdown",
   "metadata": {},
   "source": [
    "## Creación del Corpus\n",
    "\n",
    "Crearemos un corpus con la colección de todos los resúmenes previamente pre-procesados y transformados usando el diccionario. Vamos a convertir los textos a un formato que gensim puede utilizar, esto es, una representación como bolsa de palabras (BoW). Gensim espera ser alimentado con una estructura de datos de corpus, básicamente una lista de \"sparce vectors\", estos constan de pares (id, score), donde el id es un ID numérico que se asigna al término a través de un diccionario. "
   ]
  },
  {
   "cell_type": "code",
   "execution_count": 47,
   "metadata": {
    "collapsed": true
   },
   "outputs": [],
   "source": [
    "corpus = [dictionary.doc2bow(text) for text in global_texts]"
   ]
  },
  {
   "cell_type": "code",
   "execution_count": null,
   "metadata": {
    "collapsed": true
   },
   "outputs": [],
   "source": []
  },
  {
   "cell_type": "code",
   "execution_count": null,
   "metadata": {
    "collapsed": true
   },
   "outputs": [],
   "source": []
  },
  {
   "cell_type": "markdown",
   "metadata": {},
   "source": [
    "A modo de ejemplo, mostramos las 5 primeras entradas del primer proyecto"
   ]
  },
  {
   "cell_type": "code",
   "execution_count": 48,
   "metadata": {
    "collapsed": false
   },
   "outputs": [
    {
     "data": {
      "text/plain": [
       "[(0, 1), (1, 2), (2, 2), (3, 1), (4, 1)]"
      ]
     },
     "execution_count": 48,
     "metadata": {},
     "output_type": "execute_result"
    }
   ],
   "source": [
    "corpus[0][:5]"
   ]
  },
  {
   "cell_type": "markdown",
   "metadata": {},
   "source": [
    "## Creación del TFID\n",
    "\n",
    "Un alto peso en tf-idf se alcanza por una alta frecuencia en un Documento y una baja frecuencia en toda la colección de documentos; los pesos tienden a filtrar términos comunes. Para la creación de este corpus, vamos a usar la función **TfidfModel** del objeto **models** (perteneciente a la librería *gemsim*).\n"
   ]
  },
  {
   "cell_type": "code",
   "execution_count": 49,
   "metadata": {
    "collapsed": false
   },
   "outputs": [
    {
     "name": "stdout",
     "output_type": "stream",
     "text": [
      "Creación del Modelo Espacio-Vector Tf-Idf\n"
     ]
    }
   ],
   "source": [
    "def create_tfidf(corpus):\n",
    "    print(\"Creación del Modelo Espacio-Vector Tf-Idf\")\n",
    "    tfidf = models.TfidfModel(corpus)\n",
    "    corpus_tfidf = tfidf[corpus]\n",
    "    return corpus_tfidf\n",
    "\n",
    "\n",
    "corpus_tfidf = create_tfidf(corpus)"
   ]
  },
  {
   "cell_type": "markdown",
   "metadata": {},
   "source": [
    "En corpus tenemos, para cada project, una lista con sus palabras y el tfidf de cada una. Mostramos el primer elemento"
   ]
  },
  {
   "cell_type": "code",
   "execution_count": 50,
   "metadata": {
    "collapsed": false
   },
   "outputs": [
    {
     "data": {
      "text/plain": [
       "[(0, 0.05517368973772726),\n",
       " (1, 0.06646112247334413),\n",
       " (2, 0.09689620362443847),\n",
       " (3, 0.03198114085380403),\n",
       " (4, 0.03720343814725363),\n",
       " (5, 0.04777845053878821),\n",
       " (6, 0.04879392738122038),\n",
       " (7, 0.06506448867988254),\n",
       " (8, 0.0804972778925506),\n",
       " (9, 0.04167292010782611),\n",
       " (10, 0.08193516188229652),\n",
       " (11, 0.0536740383863579),\n",
       " (12, 0.03974090052505921),\n",
       " (13, 0.10868959181823236),\n",
       " (14, 0.07411751553604372),\n",
       " (15, 0.04184194087364232),\n",
       " (16, 0.06411059481230273),\n",
       " (17, 0.06093870065341667),\n",
       " (18, 0.03860297613867702),\n",
       " (19, 0.10868959181823236),\n",
       " (20, 0.03897321510278386),\n",
       " (21, 0.3260687754546971),\n",
       " (22, 0.059354377596806694),\n",
       " (23, 0.05517368973772726),\n",
       " (24, 0.02733497338910238),\n",
       " (25, 0.3705875776802186),\n",
       " (26, 0.060785766671958785),\n",
       " (27, 0.018276360014157507),\n",
       " (28, 0.03501892582577447),\n",
       " (29, 0.03186148681718297),\n",
       " (30, 0.024858497250395302),\n",
       " (31, 0.07245972787882159),\n",
       " (32, 0.08687704024905744),\n",
       " (33, 0.12552582262092696),\n",
       " (34, 0.07597076446447),\n",
       " (35, 0.06506448867988254),\n",
       " (36, 0.053271100486088636),\n",
       " (37, 0.04950925192326447),\n",
       " (38, 0.03974090052505921),\n",
       " (39, 0.08687704024905744),\n",
       " (40, 0.0536740383863579),\n",
       " (41, 0.022586532022536025),\n",
       " (42, 0.0977833160336449),\n",
       " (43, 0.024259017887262296),\n",
       " (44, 0.10868959181823236),\n",
       " (45, 0.05064717630964666),\n",
       " (46, 0.015141787497003697),\n",
       " (47, 0.03576477303498276),\n",
       " (48, 0.0977833160336449),\n",
       " (49, 0.0780718048130531),\n",
       " (50, 0.07096007652745222),\n",
       " (51, 0.032972613984503844),\n",
       " (52, 0.03670912220709911),\n",
       " (53, 0.08336600366340903),\n",
       " (54, 0.04206833945571236),\n",
       " (55, 0.1923317844369082),\n",
       " (56, 0.0568922011128465),\n",
       " (57, 0.042298043243127824),\n",
       " (58, 0.037371722425073126),\n",
       " (59, 0.04844810181221924),\n",
       " (60, 0.052304963966868796),\n",
       " (61, 0.07096007652745222),\n",
       " (62, 0.07597076446447),\n",
       " (63, 0.04276776260177043),\n",
       " (64, 0.06833157572794454),\n",
       " (65, 0.04375148478158),\n",
       " (66, 0.04206833945571236),\n",
       " (67, 0.10868959181823236),\n",
       " (68, 0.04276776260177043),\n",
       " (69, 0.07096007652745222),\n",
       " (70, 0.17107105040708173),\n",
       " (71, 0.059354377596806694),\n",
       " (72, 0.03576477303498276),\n",
       " (73, 0.07096007652745222),\n",
       " (74, 0.035918280886620954),\n",
       " (75, 0.056831477394949384),\n",
       " (76, 0.026213690389770127),\n",
       " (77, 0.10868959181823236),\n",
       " (78, 0.10868959181823236),\n",
       " (79, 0.07245972787882159),\n",
       " (80, 0.10868959181823236),\n",
       " (81, 0.02037022060902764),\n",
       " (82, 0.0300613051565608),\n",
       " (83, 0.032593452746277),\n",
       " (84, 0.14236205342362154),\n",
       " (85, 0.2841573869747469),\n",
       " (86, 0.07648249834737968),\n",
       " (87, 0.03754182602763177),\n",
       " (88, 0.02162486230602654),\n",
       " (89, 0.0709243570342709),\n",
       " (90, 0.03430683915389079),\n",
       " (91, 0.05625925324387819),\n",
       " (92, 0.08336600366340903),\n",
       " (93, 0.05320431902771528),\n",
       " (94, 0.05517368973772726),\n",
       " (95, 0.03993882049303982),\n",
       " (96, 0.060785766671958785),\n",
       " (97, 0.05064717630964666),\n",
       " (98, 0.03622986393941079),\n",
       " (99, 0.06411059481230273),\n",
       " (100, 0.03974090052505921),\n",
       " (101, 0.0294360137376855),\n",
       " (102, 0.04325193711070762),\n",
       " (103, 0.09703698397836047),\n",
       " (104, 0.03994659004099203),\n",
       " (105, 0.04987949088737133),\n",
       " (106, 0.03362558859501814),\n",
       " (107, 0.06716552902846566),\n",
       " (108, 0.04713613972399825),\n",
       " (109, 0.031507889240126055),\n",
       " (110, 0.13433105805693132),\n",
       " (111, 0.027424628503406448),\n",
       " (112, 0.03546217851713545),\n",
       " (113, 0.06321123975145626),\n",
       " (114, 0.038098146428144734),\n",
       " (115, 0.029745553490688168),\n",
       " (116, 0.04844810181221924),\n",
       " (117, 0.06833157572794454),\n",
       " (118, 0.03974090052505921),\n",
       " (119, 0.06209691436976583),\n",
       " (120, 0.05742529994335708),\n",
       " (121, 0.06005380074286475),\n",
       " (122, 0.02844610055642325),\n",
       " (123, 0.018683746653998235),\n",
       " (124, 0.06506448867988254),\n",
       " (125, 0.06607996552231471),\n",
       " (126, 0.08336600366340903),\n",
       " (127, 0.049147524958277296),\n",
       " (128, 0.04206833945571236),\n",
       " (129, 0.07277600049052713),\n",
       " (130, 0.17605417897012698),\n",
       " (131, 0.04139868818228134),\n",
       " (132, 0.04844810181221924),\n",
       " (133, 0.08151275473498276),\n",
       " (134, 0.09140355367713804),\n",
       " (135, 0.06607996552231471),\n",
       " (136, 0.0780718048130531),\n",
       " (137, 0.21737918363646472),\n",
       " (138, 0.06833157572794454),\n",
       " (139, 0.018377222090237337),\n",
       " (140, 0.04349972853086445),\n",
       " (141, 0.05517368973772726),\n",
       " (142, 0.05064717630964666)]"
      ]
     },
     "execution_count": 50,
     "metadata": {},
     "output_type": "execute_result"
    }
   ],
   "source": [
    "corpus_tfidf[0]"
   ]
  },
  {
   "cell_type": "markdown",
   "metadata": {},
   "source": [
    "Si queremos saber que palabra es cada uno de estos términos podemos consultar el diccionario"
   ]
  },
  {
   "cell_type": "code",
   "execution_count": 51,
   "metadata": {
    "collapsed": false
   },
   "outputs": [
    {
     "name": "stdout",
     "output_type": "stream",
     "text": [
      "intent , attack , author\n"
     ]
    }
   ],
   "source": [
    "print(dictionary[0],\",\",dictionary[1],\",\", dictionary[2])"
   ]
  },
  {
   "cell_type": "markdown",
   "metadata": {},
   "source": [
    "## Creación del Modelo LSI\n",
    "\n",
    "Para ello vamos a definir una función auxiliar y posteriormente la invocaremos, además de crear el modelo LSI, vamos a usarlo para crear la matriz de similitudes. Antes de nada vamos a definir una serie de constantes para controlar el proceso.\n",
    " \n",
    "* **TOTAL_LSA_TOPICS**\n",
    "Limita el numero de terminos, por supuesto tiene que ver con el tamaño de la muestra, mientras más proyectos tengamos mas terminos tendremos y por tanto la reduccion seria mayor, estamos clusterizando las proyectos en TOTAL_TOPICOS_LSA clusters\n",
    " \n",
    "* **SIMILARITY_THRESHOLD** Umbral de similitud que se debe superar para que dos proyectos se consideren similares\n",
    "\n",
    "* **LIBRARY_COINCIDENCE_RATE** porcentaje en el que incrementaremos la similitud de los proyectos por cada librería que dos proyectos tengan en común\n",
    "\n",
    " \n"
   ]
  },
  {
   "cell_type": "markdown",
   "metadata": {},
   "source": [
    "### Determinación del número de topicos"
   ]
  },
  {
   "cell_type": "markdown",
   "metadata": {
    "collapsed": true
   },
   "source": [
    "*Como se mencionó anteriormente, LSA busca identificar un conjunto de topicos relacionados las descripciones de los proyectos. El número de estos temas N es igual a la dimensión de la matriz de aproximación resultante de la técnica de reducción de dimensión SVD. Este número es un hiperparámetro que se debe ajustar cuidadosamente, es el resultado de la selección de los N valores singulares más grandes de la matriz del corpus tf-idf. Estos valores singulares se pueden calcular de la siguiente manera:*"
   ]
  },
  {
   "cell_type": "markdown",
   "metadata": {},
   "source": [
    "En primer lugar usando la función **corpus2dense** , convertimos el corpus en una matriz np densa (los documentos serán columnas). Esta función necesita el número de características (parámetro **num_terms**), porque la dimensionalidad no se puede deducir solo con el corpus. Adicionalmente vamos a suministrar el numero de documentos (parámetro **num_docs**), para que el algoritmo sea más eficiente.\n",
    "\n",
    "*Nota: La función inversa de **corpus2dense** es **Dense2Corpus** *"
   ]
  },
  {
   "cell_type": "code",
   "execution_count": 52,
   "metadata": {
    "collapsed": false
   },
   "outputs": [
    {
     "data": {
      "text/plain": [
       "1000"
      ]
     },
     "execution_count": 52,
     "metadata": {},
     "output_type": "execute_result"
    }
   ],
   "source": [
    "num_docs = len(global_texts)\n",
    "num_docs"
   ]
  },
  {
   "cell_type": "code",
   "execution_count": 53,
   "metadata": {
    "collapsed": false
   },
   "outputs": [
    {
     "data": {
      "text/plain": [
       "12566"
      ]
     },
     "execution_count": 53,
     "metadata": {},
     "output_type": "execute_result"
    }
   ],
   "source": [
    "num_terms = len(dictionary)\n",
    "num_terms"
   ]
  },
  {
   "cell_type": "code",
   "execution_count": 54,
   "metadata": {
    "collapsed": false
   },
   "outputs": [
    {
     "data": {
      "text/plain": [
       "array([[ 1.,  0.,  0., ...,  0.,  0.,  0.],\n",
       "       [ 2.,  0.,  0., ...,  0.,  0.,  0.],\n",
       "       [ 2.,  0.,  0., ...,  0.,  0.,  0.],\n",
       "       ..., \n",
       "       [ 0.,  0.,  0., ...,  0.,  0.,  2.],\n",
       "       [ 0.,  0.,  0., ...,  0.,  0.,  1.],\n",
       "       [ 0.,  0.,  0., ...,  0.,  0.,  1.]], dtype=float32)"
      ]
     },
     "execution_count": 54,
     "metadata": {},
     "output_type": "execute_result"
    }
   ],
   "source": [
    "numpy_matrix = matutils.corpus2dense(corpus, num_terms=num_terms, num_docs=num_docs)\n",
    "numpy_matrix"
   ]
  },
  {
   "cell_type": "code",
   "execution_count": 55,
   "metadata": {
    "collapsed": false
   },
   "outputs": [
    {
     "data": {
      "text/plain": [
       "array([ 198.09124756,   72.27992249,   68.53360748,   65.42533875,\n",
       "         61.31890106,   59.96660614,   57.51701736,   55.00877762,\n",
       "         53.73410416,   52.5979538 ,   52.25812531,   51.14103317,\n",
       "         49.8937912 ,   48.5202446 ,   48.18895721,   47.66302109,\n",
       "         47.24345016,   46.74636078,   46.13379669,   45.15121078,\n",
       "         44.82839966,   44.02625656,   43.25774002,   42.86566162,\n",
       "         42.29089737,   41.92856216,   41.75440979,   41.18707657,\n",
       "         40.96023941,   40.80237198,   40.1966362 ,   39.9087944 ,\n",
       "         39.65435791,   39.13255692,   39.08746338,   38.65299606,\n",
       "         38.23283386,   37.65267563,   37.57136154,   37.40861893,\n",
       "         37.3235054 ,   36.93718719,   36.63299942,   36.40248489,\n",
       "         36.06575775,   35.85059738,   35.53202057,   35.39121628,\n",
       "         35.13446808,   34.80001068,   34.66302872,   34.45415497,\n",
       "         34.29391861,   33.94166183,   33.87244034,   33.69962311,\n",
       "         33.35720444,   33.18489838,   33.00522995,   32.94475174,\n",
       "         32.62821198,   32.51448822,   32.3026123 ,   32.20934296,\n",
       "         32.067173  ,   31.84824753,   31.72791481,   31.51280212,\n",
       "         31.3433094 ,   31.28107643,   31.10044479,   31.02922821,\n",
       "         30.83909607,   30.6598053 ,   30.44736099,   30.34905434,\n",
       "         30.19473839,   30.00013733,   29.89453888,   29.7747097 ,\n",
       "         29.70887756,   29.54069328,   29.47237587,   29.35710144,\n",
       "         29.20672226,   28.96058273,   28.87340736,   28.7322197 ,\n",
       "         28.63921165,   28.55244827,   28.46429634,   28.36982155,\n",
       "         28.17500877,   28.05789185,   27.96417236,   27.92097092,\n",
       "         27.79795456,   27.75350571,   27.74653816,   27.51814842,\n",
       "         27.38568115,   27.31518173,   27.26278114,   27.16020393,\n",
       "         27.10601425,   26.93146706,   26.85487366,   26.71720695,\n",
       "         26.65410614,   26.54453278,   26.5225544 ,   26.34820366,\n",
       "         26.33190155,   26.23088646,   26.10875511,   25.91625595,\n",
       "         25.85784912,   25.80153656,   25.60147285,   25.5495491 ,\n",
       "         25.45660973,   25.36662483,   25.32109642,   25.21328354,\n",
       "         25.17632675,   25.04378319,   24.98703003,   24.89050674,\n",
       "         24.83254242,   24.78089905,   24.63696671,   24.58594704,\n",
       "         24.49497795,   24.43626976,   24.26083183,   24.18735695,\n",
       "         24.09903336,   24.02025795,   23.98989296,   23.82398605,\n",
       "         23.72522354,   23.69466972,   23.59990883,   23.56071663,\n",
       "         23.40327835,   23.32794952,   23.22918129,   23.11327934,\n",
       "         23.09118843,   23.05904388,   22.87046051,   22.84509659,\n",
       "         22.79524612,   22.76591301,   22.63476944,   22.55245018,\n",
       "         22.49486923,   22.42320061,   22.33868027,   22.29704094,\n",
       "         22.25169754,   22.19890213,   22.13769531,   22.11187363,\n",
       "         22.07161903,   21.92863083,   21.87361336,   21.8204937 ,\n",
       "         21.75866127,   21.60909653,   21.51542473,   21.45100021,\n",
       "         21.40588379,   21.34801865,   21.32500648,   21.31733513,\n",
       "         21.18862343,   21.12593842,   21.02658463,   20.96746063,\n",
       "         20.95206451,   20.90288162,   20.80856705,   20.77290535,\n",
       "         20.70887184,   20.68606567,   20.63115501,   20.47294426,\n",
       "         20.42037582,   20.41175079,   20.34145927,   20.29380417,\n",
       "         20.24626732,   20.20175171,   20.14099884,   20.01877785,\n",
       "         19.95354462,   19.89871788,   19.85968971,   19.82915878,\n",
       "         19.71593857,   19.67689514,   19.6398735 ,   19.60025024,\n",
       "         19.56641388,   19.51292801,   19.40351868,   19.3742981 ,\n",
       "         19.31032562,   19.1966095 ,   19.14097404,   19.09591866,\n",
       "         19.07455635,   18.95865822,   18.93749619,   18.90714836,\n",
       "         18.85358047,   18.78306389,   18.75723648,   18.70006943,\n",
       "         18.6752758 ,   18.605196  ,   18.55749321,   18.47305298,\n",
       "         18.44103432,   18.41218376,   18.31252861,   18.29635239,\n",
       "         18.2748642 ,   18.20972824,   18.17874336,   18.14205551,\n",
       "         18.02461243,   18.00479889,   17.91058922,   17.87125587,\n",
       "         17.83456039,   17.80944061,   17.78303337,   17.69284248,\n",
       "         17.67431831,   17.6068325 ,   17.50764275,   17.48906898,\n",
       "         17.43473625,   17.3928833 ,   17.31761742,   17.2999115 ,\n",
       "         17.22977638,   17.19356918,   17.13613129,   17.08262062,\n",
       "         17.06822014,   17.02555847,   16.98575783,   16.90276909,\n",
       "         16.88935089,   16.83664131,   16.76077843,   16.7080822 ,\n",
       "         16.65899849,   16.57728958,   16.56265259,   16.50387383,\n",
       "         16.49357033,   16.47910309,   16.39640427,   16.38203812,\n",
       "         16.33905029,   16.29570389,   16.26161575,   16.18567085,\n",
       "         16.14898682,   16.04998016,   16.03338242,   15.98999119,\n",
       "         15.97157192,   15.90748119,   15.86082363,   15.8104744 ,\n",
       "         15.76132584,   15.69496059,   15.686059  ,   15.63590717,\n",
       "         15.60047245,   15.54316425,   15.51479149,   15.47658825,\n",
       "         15.45670986,   15.38359261,   15.34367561,   15.32782269,\n",
       "         15.27575874,   15.25407887,   15.1817522 ,   15.15676212,\n",
       "         15.10279846,   15.07585049,   15.04496574,   15.01313782,\n",
       "         14.91695499,   14.89061069,   14.86105251,   14.79491806,\n",
       "         14.77479076,   14.74228954,   14.69454002,   14.68989563,\n",
       "         14.62458134,   14.59247017,   14.5592308 ,   14.50656414,\n",
       "         14.47132492,   14.43691254,   14.40982628,   14.38103294,\n",
       "         14.33316231,   14.29090881,   14.2362957 ,   14.21931171,\n",
       "         14.17983723,   14.17420673,   14.15039158,   14.09502602,\n",
       "         14.05984592,   13.99565887,   13.96309757,   13.95051384,\n",
       "         13.91984749,   13.88521671,   13.85311794,   13.80359745,\n",
       "         13.77367401,   13.75806618,   13.69714546,   13.63491154,\n",
       "         13.61577797,   13.60431957,   13.5670681 ,   13.5352211 ,\n",
       "         13.5118227 ,   13.48089218,   13.4402771 ,   13.41334724,\n",
       "         13.35391712,   13.30792713,   13.25124741,   13.21080875,\n",
       "         13.19658852,   13.17849731,   13.14864731,   13.09876251,\n",
       "         13.07115078,   13.03635311,   13.02270889,   12.96572781,\n",
       "         12.93543053,   12.8963356 ,   12.89183903,   12.84941959,\n",
       "         12.82626724,   12.7766819 ,   12.76070023,   12.74921799,\n",
       "         12.69364834,   12.66213608,   12.63799   ,   12.62736225,\n",
       "         12.59169674,   12.570261  ,   12.50012684,   12.48552704,\n",
       "         12.43396473,   12.43009663,   12.41194916,   12.34687424,\n",
       "         12.33040714,   12.27881908,   12.24151325,   12.19919968,\n",
       "         12.19434834,   12.17338085,   12.1527853 ,   12.11812592,\n",
       "         12.09187698,   12.05656624,   12.03803539,   11.99517632,\n",
       "         11.96413898,   11.95941162,   11.881217  ,   11.86424065,\n",
       "         11.81976891,   11.81216812,   11.78441811,   11.7572546 ,\n",
       "         11.72125149,   11.71429634,   11.70359802,   11.64453506,\n",
       "         11.6260252 ,   11.61272812,   11.5703373 ,   11.56686974,\n",
       "         11.54499817,   11.50220108,   11.48857307,   11.43352699,\n",
       "         11.42108727,   11.39604473,   11.38707733,   11.36665916,\n",
       "         11.35432148,   11.30567169,   11.27287674,   11.244627  ,\n",
       "         11.21875095,   11.18811417,   11.15697002,   11.14518642,\n",
       "         11.13624382,   11.09614182,   11.05921555,   11.04701805,\n",
       "         11.00183678,   10.97568035,   10.96938229,   10.92502213,\n",
       "         10.91138363,   10.88352489,   10.84469509,   10.83968735,\n",
       "         10.80417538,   10.77395439,   10.75601959,   10.72125435,\n",
       "         10.67938042,   10.66361904,   10.64481831,   10.61701965,\n",
       "         10.59517097,   10.57723045,   10.56005192,   10.5442028 ,\n",
       "         10.5304985 ,   10.51311207,   10.4736433 ,   10.45754147,\n",
       "         10.45589447,   10.43880463,   10.42391014,   10.38954067,\n",
       "         10.33502388,   10.32821178,   10.30601215,   10.28324986,\n",
       "         10.26439762,   10.24092007,   10.22330856,   10.18139839,\n",
       "         10.16101456,   10.15059566,   10.11305332,   10.09803963,\n",
       "         10.07091904,   10.04140091,   10.01325703,    9.99168682,\n",
       "          9.95920944,    9.93459225,    9.9179554 ,    9.90749454,\n",
       "          9.87963009,    9.87230206,    9.84911346,    9.8220005 ,\n",
       "          9.81314182,    9.78326321,    9.75455093,    9.73843956,\n",
       "          9.72838974,    9.71860313,    9.69795704,    9.68552876,\n",
       "          9.62586117,    9.60499382,    9.59071827,    9.56651211,\n",
       "          9.55874729,    9.53823566,    9.49972439,    9.49103737,\n",
       "          9.46535587,    9.45428562,    9.42902756,    9.41605854,\n",
       "          9.39546299,    9.3817606 ,    9.35929585,    9.33662415,\n",
       "          9.32675648,    9.31484222,    9.30058765,    9.29182339,\n",
       "          9.25790215,    9.23388863,    9.20495796,    9.2010498 ,\n",
       "          9.14237213,    9.13560581,    9.12893581,    9.10207748,\n",
       "          9.06781387,    9.06663704,    9.03142452,    9.02564621,\n",
       "          9.01544571,    9.00477886,    8.97305298,    8.95429325,\n",
       "          8.93794441,    8.91623783,    8.89572811,    8.88430309,\n",
       "          8.86717415,    8.83464336,    8.83125305,    8.80664158,\n",
       "          8.7984333 ,    8.75600815,    8.73327923,    8.72904015,\n",
       "          8.71310616,    8.71035004,    8.67292881,    8.65452099,\n",
       "          8.63066769,    8.62347317,    8.58413792,    8.56712341,\n",
       "          8.55410385,    8.5414114 ,    8.52297974,    8.51011467,\n",
       "          8.48490906,    8.46117496,    8.45820999,    8.44563866,\n",
       "          8.42334366,    8.39828968,    8.38302708,    8.36287975,\n",
       "          8.33675098,    8.32513046,    8.31820202,    8.29646873,\n",
       "          8.27044582,    8.26089859,    8.25389385,    8.23090553,\n",
       "          8.19983864,    8.18966675,    8.18057728,    8.17538929,\n",
       "          8.15337086,    8.11923504,    8.10122967,    8.08058643,\n",
       "          8.07016945,    8.05767822,    8.05479908,    8.01600933,\n",
       "          8.00361633,    7.99508524,    7.96812105,    7.96235418,\n",
       "          7.94385719,    7.93515396,    7.9253788 ,    7.88706589,\n",
       "          7.88581276,    7.87929583,    7.83749247,    7.81962061,\n",
       "          7.8141613 ,    7.80228519,    7.78380108,    7.77390814,\n",
       "          7.75609589,    7.74829102,    7.71986103,    7.69780254,\n",
       "          7.68113136,    7.65526772,    7.62149143,    7.6118741 ,\n",
       "          7.60368729,    7.59002638,    7.5669632 ,    7.55972624,\n",
       "          7.54510736,    7.52293968,    7.50256824,    7.48686981,\n",
       "          7.47786379,    7.4696188 ,    7.46440744,    7.45651054,\n",
       "          7.42749691,    7.41172218,    7.40505409,    7.38793659,\n",
       "          7.38720655,    7.33392763,    7.32002974,    7.31149864,\n",
       "          7.30402994,    7.28074503,    7.26898241,    7.25955057,\n",
       "          7.2402482 ,    7.22245789,    7.20176077,    7.18649721,\n",
       "          7.16414738,    7.1511507 ,    7.11836147,    7.1093688 ,\n",
       "          7.09465265,    7.08349085,    7.06462145,    7.05749226,\n",
       "          7.04822302,    7.03295374,    7.01102686,    7.00112772,\n",
       "          6.9861846 ,    6.97769213,    6.96985149,    6.94559956,\n",
       "          6.92885733,    6.91684055,    6.89078236,    6.88391256,\n",
       "          6.86887121,    6.84877729,    6.82944202,    6.82569504,\n",
       "          6.80864334,    6.78528976,    6.77397919,    6.76697969,\n",
       "          6.75216913,    6.73894501,    6.72622252,    6.71546507,\n",
       "          6.68534422,    6.66707945,    6.64870071,    6.63919687,\n",
       "          6.63387251,    6.61412668,    6.59931469,    6.58019876,\n",
       "          6.56743336,    6.56037855,    6.54776049,    6.52171803,\n",
       "          6.51294374,    6.50071573,    6.49154139,    6.48270416,\n",
       "          6.44968319,    6.44210625,    6.43849945,    6.40471745,\n",
       "          6.38734055,    6.3856473 ,    6.37202358,    6.35350609,\n",
       "          6.33823824,    6.32900476,    6.31466532,    6.30037403,\n",
       "          6.2920475 ,    6.28085756,    6.25582647,    6.24820662,\n",
       "          6.22578049,    6.21721363,    6.18564701,    6.17877102,\n",
       "          6.16939259,    6.15558672,    6.14195013,    6.12117815,\n",
       "          6.108356  ,    6.10322046,    6.08598042,    6.07015276,\n",
       "          6.05542803,    6.04742002,    6.03302574,    6.02010489,\n",
       "          6.0060401 ,    5.99171066,    5.98291922,    5.96920681,\n",
       "          5.94790459,    5.93099403,    5.91661215,    5.90495968,\n",
       "          5.89374161,    5.88400984,    5.86371136,    5.84843063,\n",
       "          5.83215761,    5.82210541,    5.80642176,    5.79065657,\n",
       "          5.77773905,    5.77074909,    5.76687479,    5.74924946,\n",
       "          5.74438429,    5.7402544 ,    5.7195158 ,    5.70581627,\n",
       "          5.69027328,    5.68512964,    5.67281771,    5.65206957,\n",
       "          5.62848425,    5.61646795,    5.61007977,    5.60278559,\n",
       "          5.58782101,    5.57126713,    5.56357431,    5.55616045,\n",
       "          5.5405035 ,    5.53222847,    5.51587725,    5.50089216,\n",
       "          5.49874401,    5.49047613,    5.48360062,    5.45988131,\n",
       "          5.44150782,    5.43309784,    5.42701769,    5.42241526,\n",
       "          5.40366125,    5.39957476,    5.37962484,    5.36223841,\n",
       "          5.3525176 ,    5.34582901,    5.31836128,    5.30652761,\n",
       "          5.2977252 ,    5.2890749 ,    5.25123072,    5.25079727,\n",
       "          5.22587681,    5.21978378,    5.20459414,    5.19251871,\n",
       "          5.18771076,    5.17439079,    5.15048981,    5.14060402,\n",
       "          5.13658476,    5.12022066,    5.10633516,    5.09029818,\n",
       "          5.08420134,    5.06332397,    5.05853844,    5.04863739,\n",
       "          5.04272079,    5.03467798,    5.0207181 ,    5.00592279,\n",
       "          4.98820448,    4.96642065,    4.9523797 ,    4.94383478,\n",
       "          4.92777109,    4.92286158,    4.90356731,    4.88633585,\n",
       "          4.87741947,    4.87254429,    4.85766363,    4.84970474,\n",
       "          4.8351655 ,    4.8287015 ,    4.81095076,    4.79823399,\n",
       "          4.78669405,    4.78277016,    4.76380539,    4.75301218,\n",
       "          4.73764944,    4.73506212,    4.71507406,    4.70253706,\n",
       "          4.69739103,    4.68329382,    4.67368412,    4.65379143,\n",
       "          4.6463995 ,    4.62457323,    4.61218309,    4.60565186,\n",
       "          4.60143852,    4.58558702,    4.56395578,    4.55558586,\n",
       "          4.5429697 ,    4.53086329,    4.52757978,    4.51000357,\n",
       "          4.50137138,    4.49002409,    4.47385931,    4.46153307,\n",
       "          4.44773006,    4.43510008,    4.42539787,    4.41761494,\n",
       "          4.40776348,    4.40177488,    4.39237499,    4.37966156,\n",
       "          4.36762142,    4.36019611,    4.34876823,    4.34541988,\n",
       "          4.33603907,    4.31358957,    4.30631447,    4.28291464,\n",
       "          4.27853537,    4.27355528,    4.24591255,    4.22750187,\n",
       "          4.21165752,    4.20254946,    4.19570112,    4.17976141,\n",
       "          4.15944242,    4.14834595,    4.12950468,    4.12507963,\n",
       "          4.11238575,    4.10289717,    4.09877777,    4.08151484,\n",
       "          4.07204008,    4.05747986,    4.03126144,    4.01932478,\n",
       "          4.01145411,    3.9984355 ,    3.97789264,    3.96736598,\n",
       "          3.95888829,    3.95277166,    3.93998098,    3.92820978,\n",
       "          3.92061901,    3.91389799,    3.89047885,    3.88998342,\n",
       "          3.88488579,    3.8694036 ,    3.85026217,    3.83995891,\n",
       "          3.82496953,    3.80936933,    3.80793548,    3.78972173,\n",
       "          3.77713108,    3.75897479,    3.75035191,    3.74044943,\n",
       "          3.72489166,    3.71293402,    3.69557381,    3.68364811,\n",
       "          3.67338204,    3.65971041,    3.65308046,    3.64430928,\n",
       "          3.62710857,    3.6177094 ,    3.61196613,    3.58942199,\n",
       "          3.57385063,    3.56718254,    3.55411029,    3.54047728,\n",
       "          3.52854633,    3.50736833,    3.49748898,    3.48519444,\n",
       "          3.47708607,    3.45950127,    3.45528746,    3.43725824,\n",
       "          3.43019271,    3.41899014,    3.3991797 ,    3.38773179,\n",
       "          3.37688875,    3.36775255,    3.36129117,    3.3534193 ,\n",
       "          3.33355951,    3.31917143,    3.29396701,    3.28060365,\n",
       "          3.26589489,    3.25629139,    3.2325511 ,    3.21533775,\n",
       "          3.2064302 ,    3.20191669,    3.19060874,    3.15768695,\n",
       "          3.14448977,    3.12954068,    3.11281562,    3.09218812,\n",
       "          3.08113503,    3.07377076,    3.06575203,    3.0420723 ,\n",
       "          3.03164148,    3.00786471,    2.99864125,    2.98363447,\n",
       "          2.97624516,    2.95112038,    2.92237616,    2.91678834,\n",
       "          2.91110373,    2.88611102,    2.85344505,    2.84033585,\n",
       "          2.83403635,    2.82261014,    2.81700635,    2.79923487,\n",
       "          2.77284265,    2.76520014,    2.74819708,    2.74000192,\n",
       "          2.7275703 ,    2.71987939,    2.68359017,    2.67896628,\n",
       "          2.6667676 ,    2.64901304,    2.63679385,    2.61745024,\n",
       "          2.6029036 ,    2.58475828,    2.56397128,    2.54959106,\n",
       "          2.53986907,    2.52765608,    2.49352288,    2.4706552 ,\n",
       "          2.45913839,    2.44292188,    2.42638183,    2.41237497,\n",
       "          2.40167284,    2.38317013,    2.36231327,    2.33022428,\n",
       "          2.31742668,    2.30275702,    2.28892946,    2.27417707,\n",
       "          2.26706934,    2.23828483,    2.21616697,    2.19695783,\n",
       "          2.1626699 ,    2.13735557,    2.08918977,    2.07617974,\n",
       "          2.01377058,    1.98044705,    1.90133858,    1.80118096], dtype=float32)"
      ]
     },
     "execution_count": 55,
     "metadata": {},
     "output_type": "execute_result"
    }
   ],
   "source": [
    "svd = np.linalg.svd(numpy_matrix, full_matrices=False, compute_uv=False)\n",
    "svd"
   ]
  },
  {
   "cell_type": "code",
   "execution_count": 56,
   "metadata": {
    "collapsed": false
   },
   "outputs": [
    {
     "data": {
      "text/plain": [
       "array([ 3.07966828,  2.8681531 ,  2.17462349,  2.02355862,  1.73205078,\n",
       "        1.6565845 ,  1.41421354,  1.19722176,  1.13487995], dtype=float32)"
      ]
     },
     "execution_count": 56,
     "metadata": {},
     "output_type": "execute_result"
    }
   ],
   "source": [
    "s"
   ]
  },
  {
   "cell_type": "code",
   "execution_count": 59,
   "metadata": {
    "collapsed": false
   },
   "outputs": [
    {
     "data": {
      "text/plain": [
       "198.09125"
      ]
     },
     "execution_count": 59,
     "metadata": {},
     "output_type": "execute_result"
    }
   ],
   "source": [
    "svd[0]"
   ]
  },
  {
   "cell_type": "code",
   "execution_count": 76,
   "metadata": {
    "collapsed": false
   },
   "outputs": [
    {
     "data": {
      "image/png": "[encoded data removed]",
      "text/plain": [
       "<matplotlib.figure.Figure at 0x203557de278>"
      ]
     },
     "metadata": {},
     "output_type": "display_data"
    }
   ],
   "source": [
    "plt.figure(figsize=(10,5))\n",
    "plt.hist(svd, bins=100)\n",
    "plt.xlabel('Singular values', fontsize=12)\n",
    "plt.show()"
   ]
  },
  {
   "cell_type": "code",
   "execution_count": 77,
   "metadata": {
    "collapsed": false
   },
   "outputs": [
    {
     "ename": "ValueError",
     "evalue": "x and y must have same first dimension",
     "output_type": "error",
     "traceback": [
      "\u001b[1;31m\u001b[0m",
      "\u001b[1;31mValueError\u001b[0mTraceback (most recent call last)",
      "\u001b[1;32m<ipython-input-77-c460bc472f49>\u001b[0m in \u001b[0;36m<module>\u001b[1;34m()\u001b[0m\n\u001b[0;32m      1\u001b[0m \u001b[0mplt\u001b[0m\u001b[1;33m.\u001b[0m\u001b[0mfigure\u001b[0m\u001b[1;33m(\u001b[0m\u001b[0mfigsize\u001b[0m\u001b[1;33m=\u001b[0m\u001b[1;33m(\u001b[0m\u001b[1;36m10\u001b[0m\u001b[1;33m,\u001b[0m\u001b[1;36m5\u001b[0m\u001b[1;33m)\u001b[0m\u001b[1;33m)\u001b[0m\u001b[1;33m\u001b[0m\u001b[0m\n\u001b[1;32m----> 2\u001b[1;33m \u001b[0mplt\u001b[0m\u001b[1;33m.\u001b[0m\u001b[0mplot\u001b[0m\u001b[1;33m(\u001b[0m\u001b[0mrange\u001b[0m\u001b[1;33m(\u001b[0m\u001b[1;36m0\u001b[0m\u001b[1;33m,\u001b[0m\u001b[1;36m101\u001b[0m\u001b[1;33m,\u001b[0m\u001b[1;36m5\u001b[0m\u001b[1;33m)\u001b[0m\u001b[1;33m,\u001b[0m \u001b[0msvd\u001b[0m\u001b[1;33m,\u001b[0m \u001b[1;34m'*-'\u001b[0m\u001b[1;33m)\u001b[0m\u001b[1;33m\u001b[0m\u001b[0m\n\u001b[0m\u001b[0;32m      3\u001b[0m \u001b[0mplt\u001b[0m\u001b[1;33m.\u001b[0m\u001b[0mxlabel\u001b[0m\u001b[1;33m(\u001b[0m\u001b[1;34m'Threshold of singular values'\u001b[0m\u001b[1;33m,\u001b[0m \u001b[0mfontsize\u001b[0m\u001b[1;33m=\u001b[0m\u001b[1;36m12\u001b[0m\u001b[1;33m)\u001b[0m\u001b[1;33m\u001b[0m\u001b[0m\n\u001b[0;32m      4\u001b[0m \u001b[0mplt\u001b[0m\u001b[1;33m.\u001b[0m\u001b[0mylabel\u001b[0m\u001b[1;33m(\u001b[0m\u001b[1;34m'Number of topics'\u001b[0m\u001b[1;33m,\u001b[0m \u001b[0mfontsize\u001b[0m\u001b[1;33m=\u001b[0m\u001b[1;36m12\u001b[0m\u001b[1;33m)\u001b[0m\u001b[1;33m\u001b[0m\u001b[0m\n",
      "\u001b[1;32mC:\\Users\\yazquez\\Anaconda3\\lib\\site-packages\\matplotlib\\pyplot.py\u001b[0m in \u001b[0;36mplot\u001b[1;34m(*args, **kwargs)\u001b[0m\n\u001b[0;32m   3152\u001b[0m         \u001b[0max\u001b[0m\u001b[1;33m.\u001b[0m\u001b[0mhold\u001b[0m\u001b[1;33m(\u001b[0m\u001b[0mhold\u001b[0m\u001b[1;33m)\u001b[0m\u001b[1;33m\u001b[0m\u001b[0m\n\u001b[0;32m   3153\u001b[0m     \u001b[1;32mtry\u001b[0m\u001b[1;33m:\u001b[0m\u001b[1;33m\u001b[0m\u001b[0m\n\u001b[1;32m-> 3154\u001b[1;33m         \u001b[0mret\u001b[0m \u001b[1;33m=\u001b[0m \u001b[0max\u001b[0m\u001b[1;33m.\u001b[0m\u001b[0mplot\u001b[0m\u001b[1;33m(\u001b[0m\u001b[1;33m*\u001b[0m\u001b[0margs\u001b[0m\u001b[1;33m,\u001b[0m \u001b[1;33m**\u001b[0m\u001b[0mkwargs\u001b[0m\u001b[1;33m)\u001b[0m\u001b[1;33m\u001b[0m\u001b[0m\n\u001b[0m\u001b[0;32m   3155\u001b[0m     \u001b[1;32mfinally\u001b[0m\u001b[1;33m:\u001b[0m\u001b[1;33m\u001b[0m\u001b[0m\n\u001b[0;32m   3156\u001b[0m         \u001b[0max\u001b[0m\u001b[1;33m.\u001b[0m\u001b[0mhold\u001b[0m\u001b[1;33m(\u001b[0m\u001b[0mwashold\u001b[0m\u001b[1;33m)\u001b[0m\u001b[1;33m\u001b[0m\u001b[0m\n",
      "\u001b[1;32mC:\\Users\\yazquez\\Anaconda3\\lib\\site-packages\\matplotlib\\__init__.py\u001b[0m in \u001b[0;36minner\u001b[1;34m(ax, *args, **kwargs)\u001b[0m\n\u001b[0;32m   1809\u001b[0m                     warnings.warn(msg % (label_namer, func.__name__),\n\u001b[0;32m   1810\u001b[0m                                   RuntimeWarning, stacklevel=2)\n\u001b[1;32m-> 1811\u001b[1;33m             \u001b[1;32mreturn\u001b[0m \u001b[0mfunc\u001b[0m\u001b[1;33m(\u001b[0m\u001b[0max\u001b[0m\u001b[1;33m,\u001b[0m \u001b[1;33m*\u001b[0m\u001b[0margs\u001b[0m\u001b[1;33m,\u001b[0m \u001b[1;33m**\u001b[0m\u001b[0mkwargs\u001b[0m\u001b[1;33m)\u001b[0m\u001b[1;33m\u001b[0m\u001b[0m\n\u001b[0m\u001b[0;32m   1812\u001b[0m         \u001b[0mpre_doc\u001b[0m \u001b[1;33m=\u001b[0m \u001b[0minner\u001b[0m\u001b[1;33m.\u001b[0m\u001b[0m__doc__\u001b[0m\u001b[1;33m\u001b[0m\u001b[0m\n\u001b[0;32m   1813\u001b[0m         \u001b[1;32mif\u001b[0m \u001b[0mpre_doc\u001b[0m \u001b[1;32mis\u001b[0m \u001b[1;32mNone\u001b[0m\u001b[1;33m:\u001b[0m\u001b[1;33m\u001b[0m\u001b[0m\n",
      "\u001b[1;32mC:\\Users\\yazquez\\Anaconda3\\lib\\site-packages\\matplotlib\\axes\\_axes.py\u001b[0m in \u001b[0;36mplot\u001b[1;34m(self, *args, **kwargs)\u001b[0m\n\u001b[0;32m   1422\u001b[0m             \u001b[0mkwargs\u001b[0m\u001b[1;33m[\u001b[0m\u001b[1;34m'color'\u001b[0m\u001b[1;33m]\u001b[0m \u001b[1;33m=\u001b[0m \u001b[0mc\u001b[0m\u001b[1;33m\u001b[0m\u001b[0m\n\u001b[0;32m   1423\u001b[0m \u001b[1;33m\u001b[0m\u001b[0m\n\u001b[1;32m-> 1424\u001b[1;33m         \u001b[1;32mfor\u001b[0m \u001b[0mline\u001b[0m \u001b[1;32min\u001b[0m \u001b[0mself\u001b[0m\u001b[1;33m.\u001b[0m\u001b[0m_get_lines\u001b[0m\u001b[1;33m(\u001b[0m\u001b[1;33m*\u001b[0m\u001b[0margs\u001b[0m\u001b[1;33m,\u001b[0m \u001b[1;33m**\u001b[0m\u001b[0mkwargs\u001b[0m\u001b[1;33m)\u001b[0m\u001b[1;33m:\u001b[0m\u001b[1;33m\u001b[0m\u001b[0m\n\u001b[0m\u001b[0;32m   1425\u001b[0m             \u001b[0mself\u001b[0m\u001b[1;33m.\u001b[0m\u001b[0madd_line\u001b[0m\u001b[1;33m(\u001b[0m\u001b[0mline\u001b[0m\u001b[1;33m)\u001b[0m\u001b[1;33m\u001b[0m\u001b[0m\n\u001b[0;32m   1426\u001b[0m             \u001b[0mlines\u001b[0m\u001b[1;33m.\u001b[0m\u001b[0mappend\u001b[0m\u001b[1;33m(\u001b[0m\u001b[0mline\u001b[0m\u001b[1;33m)\u001b[0m\u001b[1;33m\u001b[0m\u001b[0m\n",
      "\u001b[1;32mC:\\Users\\yazquez\\Anaconda3\\lib\\site-packages\\matplotlib\\axes\\_base.py\u001b[0m in \u001b[0;36m_grab_next_args\u001b[1;34m(self, *args, **kwargs)\u001b[0m\n\u001b[0;32m    384\u001b[0m                 \u001b[1;32mreturn\u001b[0m\u001b[1;33m\u001b[0m\u001b[0m\n\u001b[0;32m    385\u001b[0m             \u001b[1;32mif\u001b[0m \u001b[0mlen\u001b[0m\u001b[1;33m(\u001b[0m\u001b[0mremaining\u001b[0m\u001b[1;33m)\u001b[0m \u001b[1;33m<=\u001b[0m \u001b[1;36m3\u001b[0m\u001b[1;33m:\u001b[0m\u001b[1;33m\u001b[0m\u001b[0m\n\u001b[1;32m--> 386\u001b[1;33m                 \u001b[1;32mfor\u001b[0m \u001b[0mseg\u001b[0m \u001b[1;32min\u001b[0m \u001b[0mself\u001b[0m\u001b[1;33m.\u001b[0m\u001b[0m_plot_args\u001b[0m\u001b[1;33m(\u001b[0m\u001b[0mremaining\u001b[0m\u001b[1;33m,\u001b[0m \u001b[0mkwargs\u001b[0m\u001b[1;33m)\u001b[0m\u001b[1;33m:\u001b[0m\u001b[1;33m\u001b[0m\u001b[0m\n\u001b[0m\u001b[0;32m    387\u001b[0m                     \u001b[1;32myield\u001b[0m \u001b[0mseg\u001b[0m\u001b[1;33m\u001b[0m\u001b[0m\n\u001b[0;32m    388\u001b[0m                 \u001b[1;32mreturn\u001b[0m\u001b[1;33m\u001b[0m\u001b[0m\n",
      "\u001b[1;32mC:\\Users\\yazquez\\Anaconda3\\lib\\site-packages\\matplotlib\\axes\\_base.py\u001b[0m in \u001b[0;36m_plot_args\u001b[1;34m(self, tup, kwargs)\u001b[0m\n\u001b[0;32m    362\u001b[0m             \u001b[0mx\u001b[0m\u001b[1;33m,\u001b[0m \u001b[0my\u001b[0m \u001b[1;33m=\u001b[0m \u001b[0mindex_of\u001b[0m\u001b[1;33m(\u001b[0m\u001b[0mtup\u001b[0m\u001b[1;33m[\u001b[0m\u001b[1;33m-\u001b[0m\u001b[1;36m1\u001b[0m\u001b[1;33m]\u001b[0m\u001b[1;33m)\u001b[0m\u001b[1;33m\u001b[0m\u001b[0m\n\u001b[0;32m    363\u001b[0m \u001b[1;33m\u001b[0m\u001b[0m\n\u001b[1;32m--> 364\u001b[1;33m         \u001b[0mx\u001b[0m\u001b[1;33m,\u001b[0m \u001b[0my\u001b[0m \u001b[1;33m=\u001b[0m \u001b[0mself\u001b[0m\u001b[1;33m.\u001b[0m\u001b[0m_xy_from_xy\u001b[0m\u001b[1;33m(\u001b[0m\u001b[0mx\u001b[0m\u001b[1;33m,\u001b[0m \u001b[0my\u001b[0m\u001b[1;33m)\u001b[0m\u001b[1;33m\u001b[0m\u001b[0m\n\u001b[0m\u001b[0;32m    365\u001b[0m \u001b[1;33m\u001b[0m\u001b[0m\n\u001b[0;32m    366\u001b[0m         \u001b[1;32mif\u001b[0m \u001b[0mself\u001b[0m\u001b[1;33m.\u001b[0m\u001b[0mcommand\u001b[0m \u001b[1;33m==\u001b[0m \u001b[1;34m'plot'\u001b[0m\u001b[1;33m:\u001b[0m\u001b[1;33m\u001b[0m\u001b[0m\n",
      "\u001b[1;32mC:\\Users\\yazquez\\Anaconda3\\lib\\site-packages\\matplotlib\\axes\\_base.py\u001b[0m in \u001b[0;36m_xy_from_xy\u001b[1;34m(self, x, y)\u001b[0m\n\u001b[0;32m    221\u001b[0m         \u001b[0my\u001b[0m \u001b[1;33m=\u001b[0m \u001b[0m_check_1d\u001b[0m\u001b[1;33m(\u001b[0m\u001b[0my\u001b[0m\u001b[1;33m)\u001b[0m\u001b[1;33m\u001b[0m\u001b[0m\n\u001b[0;32m    222\u001b[0m         \u001b[1;32mif\u001b[0m \u001b[0mx\u001b[0m\u001b[1;33m.\u001b[0m\u001b[0mshape\u001b[0m\u001b[1;33m[\u001b[0m\u001b[1;36m0\u001b[0m\u001b[1;33m]\u001b[0m \u001b[1;33m!=\u001b[0m \u001b[0my\u001b[0m\u001b[1;33m.\u001b[0m\u001b[0mshape\u001b[0m\u001b[1;33m[\u001b[0m\u001b[1;36m0\u001b[0m\u001b[1;33m]\u001b[0m\u001b[1;33m:\u001b[0m\u001b[1;33m\u001b[0m\u001b[0m\n\u001b[1;32m--> 223\u001b[1;33m             \u001b[1;32mraise\u001b[0m \u001b[0mValueError\u001b[0m\u001b[1;33m(\u001b[0m\u001b[1;34m\"x and y must have same first dimension\"\u001b[0m\u001b[1;33m)\u001b[0m\u001b[1;33m\u001b[0m\u001b[0m\n\u001b[0m\u001b[0;32m    224\u001b[0m         \u001b[1;32mif\u001b[0m \u001b[0mx\u001b[0m\u001b[1;33m.\u001b[0m\u001b[0mndim\u001b[0m \u001b[1;33m>\u001b[0m \u001b[1;36m2\u001b[0m \u001b[1;32mor\u001b[0m \u001b[0my\u001b[0m\u001b[1;33m.\u001b[0m\u001b[0mndim\u001b[0m \u001b[1;33m>\u001b[0m \u001b[1;36m2\u001b[0m\u001b[1;33m:\u001b[0m\u001b[1;33m\u001b[0m\u001b[0m\n\u001b[0;32m    225\u001b[0m             \u001b[1;32mraise\u001b[0m \u001b[0mValueError\u001b[0m\u001b[1;33m(\u001b[0m\u001b[1;34m\"x and y can be no greater than 2-D\"\u001b[0m\u001b[1;33m)\u001b[0m\u001b[1;33m\u001b[0m\u001b[0m\n",
      "\u001b[1;31mValueError\u001b[0m: x and y must have same first dimension"
     ]
    },
    {
     "data": {
      "image/png": "[encoded data removed]",
      "text/plain": [
       "<matplotlib.figure.Figure at 0x2035560ee10>"
      ]
     },
     "metadata": {},
     "output_type": "display_data"
    }
   ],
   "source": [
    "plt.figure(figsize=(10,5))\n",
    "plt.plot(range(0,101,5), svd, '*-')\n",
    "plt.xlabel('Threshold of singular values', fontsize=12)\n",
    "plt.ylabel('Number of topics', fontsize=12)"
   ]
  },
  {
   "cell_type": "markdown",
   "metadata": {},
   "source": [
    "Finalmente asignamos el valor a una constante, junto a los otros dos parámetros comentados anteriormente."
   ]
  },
  {
   "cell_type": "code",
   "execution_count": 65,
   "metadata": {
    "collapsed": true
   },
   "outputs": [],
   "source": [
    "TOTAL_LSA_TOPICS = 5\n",
    "SIMILARITY_THRESHOLD = 0.6\n",
    "LIBRARY_COINCIDENCE_RATE = 0.01"
   ]
  },
  {
   "cell_type": "code",
   "execution_count": 72,
   "metadata": {
    "collapsed": false
   },
   "outputs": [
    {
     "data": {
      "text/plain": [
       "array([ 4.53701626,  1.93106029,  1.79900184,  1.75782104,  1.65492278])"
      ]
     },
     "execution_count": 72,
     "metadata": {},
     "output_type": "execute_result"
    }
   ],
   "source": [
    "lsi.projection.s"
   ]
  },
  {
   "cell_type": "code",
   "execution_count": 75,
   "metadata": {
    "collapsed": false
   },
   "outputs": [],
   "source": [
    "# write out coordinates to file\n",
    "fcoords = open(\"data/coords.csv\", 'wb')\n",
    "for vector in lsi[corpus]:\n",
    "    if len(vector) != 2:\n",
    "        continue\n",
    "    fcoords.write(\"%6.4f\\t%6.4f\\n\" % (vector[0][1], vector[1][1]))\n",
    "fcoords.close()"
   ]
  },
  {
   "cell_type": "code",
   "execution_count": null,
   "metadata": {
    "collapsed": true
   },
   "outputs": [],
   "source": []
  },
  {
   "cell_type": "code",
   "execution_count": null,
   "metadata": {
    "collapsed": true
   },
   "outputs": [],
   "source": []
  },
  {
   "cell_type": "code",
   "execution_count": null,
   "metadata": {
    "collapsed": true
   },
   "outputs": [],
   "source": []
  },
  {
   "cell_type": "markdown",
   "metadata": {},
   "source": [
    "## Creación del modelo LSA: Latent Semantic Analysis"
   ]
  },
  {
   "cell_type": "code",
   "execution_count": 66,
   "metadata": {
    "collapsed": false
   },
   "outputs": [],
   "source": [
    "def create_lsi_model(corpus_tfidf, dictionary, total_lsa_topics):\n",
    "\n",
    "    lsi = models.LsiModel(corpus_tfidf, id2word=dictionary, num_topics=total_lsa_topics)\n",
    "    similarity_matrix = similarities.MatrixSimilarity(lsi[corpus_tfidf])\n",
    "    return lsi, similarity_matrix\n",
    "\n",
    "\n",
    "(lsi, similarity_matrix) = create_lsi_model(corpus_tfidf, dictionary, TOTAL_LSA_TOPICS)"
   ]
  },
  {
   "cell_type": "markdown",
   "metadata": {},
   "source": [
    "Definimos la función auxiliar que dado un proyecto, nos determina la lista de proyectos que superan el umbral de similitud, adicionalmente vamos a bonificar los proyectos que compartan librerías con el proyecto analizado, de este modo, además del indice de similitud, vamos a sumar el valor de la constante LIBRARY_COINCIDENCE_RATE por cada librería coincidente. Para cada proyecto que supere el umbral, almacenaremos el índice dentro de la matriz de proyectos, para localizarla posteriormente, y el grado de similitud"
   ]
  },
  {
   "cell_type": "code",
   "execution_count": 67,
   "metadata": {
    "collapsed": true
   },
   "outputs": [],
   "source": [
    "def get_similarities(doc, libraries):\n",
    "    def genre_score(libraries_to_compare):\n",
    "        common_libraries = len(set(libraries).intersection(libraries_to_compare))\n",
    "        return common_libraries * LIBRARY_COINCIDENCE_RATE\n",
    "\n",
    "    project_similarities = []\n",
    "\n",
    "    vec_bow = dictionary.doc2bow(get_words(doc))\n",
    "\n",
    "    vec_lsi = lsi[vec_bow]  # convert the query to LSI space\n",
    "\n",
    "    similarities = similarity_matrix[vec_lsi]\n",
    "    similarities = sorted(enumerate(similarities), key=lambda item: -item[1])\n",
    "\n",
    "    for sim in similarities:\n",
    "        similarity_project = projects[int(sim[0])]\n",
    "        similarity_score = sim[1] + genre_score(similarity_project[\"libraries\"])\n",
    "        if similarity_score > SIMILARITY_THRESHOLD:\n",
    "            project_similarities.append((similarity_project, similarity_score))\n",
    "    return(project_similarities)"
   ]
  },
  {
   "cell_type": "markdown",
   "metadata": {},
   "source": [
    "A modo de ejemplo, vamos a determinar los proyectos similares a uno dado."
   ]
  },
  {
   "cell_type": "code",
   "execution_count": 68,
   "metadata": {
    "collapsed": true
   },
   "outputs": [],
   "source": [
    "project_similarities = get_similarities(\"A murder woman\", [\"Mystery\", \"Drama\", \"Biographical film\"])"
   ]
  },
  {
   "cell_type": "markdown",
   "metadata": {},
   "source": [
    "Y las mostramos"
   ]
  },
  {
   "cell_type": "code",
   "execution_count": 69,
   "metadata": {
    "collapsed": false
   },
   "outputs": [
    {
     "name": "stdout",
     "output_type": "stream",
     "text": [
      "Project: Forgotten Babies: - Similarity: 0.9671334028244019\n",
      "Project: Eyes of a Stranger: - Similarity: 0.9762570357322693\n",
      "Project: Ulle Veliye: - Similarity: 0.965829074382782\n",
      "Project: First Action Hero: - Similarity: 0.9619616270065308\n",
      "Project: Hell to Pay: - Similarity: 0.9670919871330261\n",
      "Project: Female Prisoner Scorpion: Beast Stable: - Similarity: 0.9650445079803467\n",
      "Project: Amador: - Similarity: 0.9643123841285706\n",
      "Project: The Lone Wolf Meets a Lady: - Similarity: 0.9718817663192749\n",
      "Project: The Vigilantes Return: - Similarity: 0.9516085386276245\n",
      "Project: The Stoker: - Similarity: 0.9581751918792725\n",
      "Project: Lady Cocoa: - Similarity: 0.9518472051620483\n",
      "Project: Daughter of the Nile: - Similarity: 0.9501634335517883\n",
      "Project: A Question of Silence: - Similarity: 0.9432544803619385\n",
      "Project: Hob wa Dumoo`: - Similarity: 0.9407556748390198\n",
      "Project: Sambizanga: - Similarity: 0.9392972683906555\n",
      "Project: Café Cantante: - Similarity: 0.928276777267456\n",
      "Project: The Tiger's Trail: - Similarity: 0.9122405052185059\n",
      "Project: New Battles Without Honor and Humanity: - Similarity: 0.9191231226921082\n",
      "Project: Las mujeres mandan: - Similarity: 0.9187427854537964\n",
      "Project: Olave Mandhara: - Similarity: 0.9083733558654785\n",
      "Project: Is There Anybody There?: - Similarity: 0.9053895473480225\n",
      "Project: Desperate: - Similarity: 0.9051351547241211\n",
      "Project: The End of the Affair: - Similarity: 0.9101415371894837\n",
      "Project: A Broken Life: - Similarity: 0.9089601731300354\n",
      "Project: The Fear Inside: - Similarity: 0.9062177038192749\n",
      "Project: Aparan: - Similarity: 0.9042973017692566\n",
      "Project: A Shot in the Dark: - Similarity: 0.8917831778526306\n",
      "Project: Star: - Similarity: 0.8912850618362427\n",
      "Project: Nariman: - Similarity: 0.8999742364883423\n",
      "Project: Black Dalia: - Similarity: 0.895348916053772\n",
      "Project: Money: - Similarity: 0.8829178214073181\n",
      "Project: Now I'll Tell One: - Similarity: 0.8825856447219849\n",
      "Project: The Beast of the City: - Similarity: 0.8890090084075928\n",
      "Project: Body of Evidence: - Similarity: 0.8826016283035278\n",
      "Project: Fighter: - Similarity: 0.8723860383033752\n",
      "Project: Pula Rangadu: - Similarity: 0.8782259321212769\n",
      "Project: Kireedam: - Similarity: 0.8706023192405701\n",
      "Project: Pippi in the South Seas: - Similarity: 0.8558551669120789\n",
      "Project: Too Outrageous!: - Similarity: 0.8620547151565552\n",
      "Project: Dolemite: - Similarity: 0.8519034385681152\n",
      "Project: Investigation held by Kolobki: - Similarity: 0.8448506593704224\n",
      "Project: Narasimham: - Similarity: 0.8470530605316162\n",
      "Project: Nevada: - Similarity: 0.8328020572662354\n",
      "Project: Rampage: - Similarity: 0.8420615887641907\n",
      "Project: The Great Adventures of Wild Bill Hickok: - Similarity: 0.8293113708496094\n",
      "Project: Bhopal: Prayer for Rain: - Similarity: 0.8356781697273254\n",
      "Project: The Beggar: - Similarity: 0.8240130543708801\n",
      "Project: The Seinfeld Chronicles: - Similarity: 0.8224188089370728\n",
      "Project: Flirting with Fate: - Similarity: 0.8221256732940674\n",
      "Project: The Raging Tide: - Similarity: 0.8281233406066895\n",
      "Project: Kausthubham: - Similarity: 0.8259440755844116\n",
      "Project: Chenkol: - Similarity: 0.8237015104293823\n",
      "Project: Agneekaal: - Similarity: 0.8220524883270264\n",
      "Project: Raampur Ka Lakshman: - Similarity: 0.8192034459114075\n",
      "Project: Vallarasu: - Similarity: 0.8076149821281433\n",
      "Project: Onamalu: - Similarity: 0.814443359375\n",
      "Project: Line Engaged: - Similarity: 0.8032305836677551\n",
      "Project: Bodyguard: - Similarity: 0.8102228736877441\n",
      "Project: Ab Insaf Hoga: - Similarity: 0.8072337007522583\n",
      "Project: The Cheat: - Similarity: 0.802195737361908\n",
      "Project: The Other Side of the Door: - Similarity: 0.791138768196106\n",
      "Project: Between Love and Hate: - Similarity: 0.7993667817115784\n",
      "Project: Future Zone: - Similarity: 0.7843582034111023\n",
      "Project: The Gorgon: - Similarity: 0.783571720123291\n",
      "Project: Squibs: - Similarity: 0.7712729573249817\n",
      "Project: Dayman Ma`ak: - Similarity: 0.7687718868255615\n",
      "Project: All of a Sudden: - Similarity: 0.7683831453323364\n",
      "Project: Boiling Point: - Similarity: 0.7645808458328247\n",
      "Project: Yiddle With His Fiddle: - Similarity: 0.762540340423584\n",
      "Project: Tora-san's Dream-Come-True: - Similarity: 0.762089192867279\n",
      "Project: Man with the Steel Whip: - Similarity: 0.7580201625823975\n",
      "Project: Mukunthetta Sumitra Vilikkunnu: - Similarity: 0.7572545409202576\n",
      "Project: Forty Guns: - Similarity: 0.7566964626312256\n",
      "Project: Sehar: - Similarity: 0.764406750202179\n",
      "Project: Terrorama: - Similarity: 0.7617225742340088\n",
      "Project: Thanksgiving: - Similarity: 0.7605124807357788\n",
      "Project: O Auto da Compadecida: - Similarity: 0.7463728189468384\n",
      "Project: The Box: - Similarity: 0.7537573671340942\n",
      "Project: Man in the Dark: - Similarity: 0.7424662113189697\n",
      "Project: The Mystery of Mr. X: - Similarity: 0.7510995364189148\n",
      "Project: Frightmare: - Similarity: 0.7405002117156982\n",
      "Project: Zaalim: - Similarity: 0.7398679256439209\n",
      "Project: National Lampoon's Class Reunion: - Similarity: 0.7310100793838501\n",
      "Project: Condemned to Live: - Similarity: 0.7364969944953919\n",
      "Project: I Could Never Be Your Woman: - Similarity: 0.7337421870231629\n",
      "Project: Allari Pidugu: - Similarity: 0.7292275524139404\n",
      "Project: Irakal: - Similarity: 0.7163904905319214\n",
      "Project: Love at Stake: - Similarity: 0.7160775065422058\n",
      "Project: Silent Night, Bloody Night: - Similarity: 0.7159889340400696\n",
      "Project: The Mirror Crack'd: - Similarity: 0.733578462600708\n",
      "Project: Stranger in the House: - Similarity: 0.7228256559371948\n",
      "Project: Fantômas: - Similarity: 0.7124317288398743\n",
      "Project: Children of Montmartre: - Similarity: 0.7223358845710754\n",
      "Project: ...tick...tick...tick...: - Similarity: 0.7113966941833496\n",
      "Project: The Left Handed Gun: - Similarity: 0.7276547145843506\n",
      "Project: Taxi: - Similarity: 0.704686164855957\n",
      "Project: Lee Dae-ro Can't Die: - Similarity: 0.7024275660514832\n",
      "Project: The Sons of Katie Elder: - Similarity: 0.7116934156417847\n",
      "Project: A Reasonable Man: - Similarity: 0.7188997459411621\n",
      "Project: The Angels Wash Their Faces: - Similarity: 0.7077607607841492\n",
      "Project: J'ai quelque chose à vous dire: - Similarity: 0.6943305134773254\n",
      "Project: Du rififi chez les femmes: - Similarity: 0.7034400796890259\n",
      "Project: Juego de Niños: - Similarity: 0.6994409656524658\n",
      "Project: Pretty Poison: - Similarity: 0.6982537603378296\n",
      "Project: Black Rider: - Similarity: 0.6966171360015869\n",
      "Project: Lettre d'amour zoulou: - Similarity: 0.6940817332267761\n",
      "Project: The Son of No One: - Similarity: 0.6929086542129517\n",
      "Project: Kibera Kid: - Similarity: 0.6917159056663513\n",
      "Project: Charro!: - Similarity: 0.6911855435371399\n",
      "Project: Insaaf Main Karoonga: - Similarity: 0.690592954158783\n",
      "Project: The Bone Collector: - Similarity: 0.700336594581604\n",
      "Project: Resin: - Similarity: 0.680207371711731\n",
      "Project: Nenjinile: - Similarity: 0.6783292293548584\n",
      "Project: Ordinary Decent Criminal: - Similarity: 0.6773524880409241\n",
      "Project: Meri Biwi Ka Jawaab Nahin: - Similarity: 0.6770226359367371\n",
      "Project: Herod's Law: - Similarity: 0.6766166090965271\n",
      "Project: Jeff, Who Lives at Home: - Similarity: 0.6756658554077148\n",
      "Project: House by the River: - Similarity: 0.6837144589424133\n",
      "Project: Valiant Is the Word for Carrie: - Similarity: 0.6802076196670532\n",
      "Project: Carancho: - Similarity: 0.6798100566864014\n",
      "Project: The Garment Jungle: - Similarity: 0.679605016708374\n",
      "Project: Wildness of Youth: - Similarity: 0.6687667369842529\n",
      "Project: ...And Justice for All: - Similarity: 0.6870581102371216\n",
      "Project: Cadence: - Similarity: 0.6759403443336487\n",
      "Project: The Magic Hour: - Similarity: 0.6644299030303955\n",
      "Project: The Big Trees: - Similarity: 0.6726834273338318\n",
      "Project: Thunderbolt: - Similarity: 0.6617349982261658\n",
      "Project: Devour: - Similarity: 0.6594148278236389\n",
      "Project: Desperate Moment: - Similarity: 0.6693145728111267\n",
      "Project: Malibu Express: - Similarity: 0.6688568687438965\n",
      "Project: Daddy and Them: - Similarity: 0.657038152217865\n",
      "Project: Things to Do in Denver When You're Dead: - Similarity: 0.6546584367752075\n",
      "Project: In Harihar Nagar: - Similarity: 0.6639191007614136\n",
      "Project: Abhilasha: - Similarity: 0.6527434587478638\n",
      "Project: Butterflies: - Similarity: 0.6522083282470703\n",
      "Project: Sorry, Wrong Number: - Similarity: 0.6721718502044678\n",
      "Project: Romasanta: - Similarity: 0.6477329730987549\n",
      "Project: The Bandolero: - Similarity: 0.646801233291626\n",
      "Project: Diana of the Crossways: - Similarity: 0.656612823009491\n",
      "Project: Cronaca di un amore: - Similarity: 0.6545305943489075\n",
      "Project: Dream Home: - Similarity: 0.6542257165908814\n",
      "Project: Stanley: - Similarity: 0.6541645622253418\n",
      "Project: Eye of the Tiger: - Similarity: 0.6540691351890564\n",
      "Project: Laura: - Similarity: 0.6633913707733154\n",
      "Project: Mouna Guru: - Similarity: 0.6411557793617249\n",
      "Project: Soorma Bhopali: - Similarity: 0.6382948756217957\n",
      "Project: Okinawa Rendez-vous: - Similarity: 0.6461098885536194\n",
      "Project: Kung Fu Tootsie: - Similarity: 0.63454669713974\n",
      "Project: Yamraaj: - Similarity: 0.6335428953170776\n",
      "Project: If I Were a Rich Man: - Similarity: 0.631253182888031\n",
      "Project: Psy: - Similarity: 0.6411513185501099\n",
      "Project: Baazi: - Similarity: 0.6408029294013977\n",
      "Project: The Way to the Gold: - Similarity: 0.6378374195098877\n",
      "Project: The Redhead from Wyoming: - Similarity: 0.6269228458404541\n",
      "Project: ChromeSkull: Laid to Rest 2: - Similarity: 0.6265190839767456\n",
      "Project: What Have I Done To Deserve This?: - Similarity: 0.6349541640281677\n",
      "Project: 12:01 PM: - Similarity: 0.6239170432090759\n",
      "Project: Bawke: - Similarity: 0.6234365701675415\n",
      "Project: The Human Tornado: - Similarity: 0.6227718591690063\n",
      "Project: Adventurer's Fate: - Similarity: 0.6180979013442993\n",
      "Project: Seoul Jesus: - Similarity: 0.6266447997093201\n",
      "Project: The Mysterious Dr. Fu Manchu: - Similarity: 0.6150930523872375\n",
      "Project: Bangkok Dangerous: - Similarity: 0.6150590777397156\n",
      "Project: 3 Strikes: - Similarity: 0.6134743690490723\n",
      "Project: Body Armour: - Similarity: 0.6131068468093872\n",
      "Project: Pane, amore e...: - Similarity: 0.6126510500907898\n",
      "Project: Backlash: - Similarity: 0.6116474866867065\n",
      "Project: Die Hel: - Similarity: 0.6101164221763611\n",
      "Project: The Glitter Dome: - Similarity: 0.619649658203125\n",
      "Project: Shagird: - Similarity: 0.6189134216308594\n",
      "Project: Green Dolphin Street: - Similarity: 0.6142168736457825\n",
      "Project: Death Grip: - Similarity: 0.6041629910469055\n",
      "Project: Buried Secrets: - Similarity: 0.622937400341034\n",
      "Project: Games: - Similarity: 0.6074435210227966\n",
      "Project: La mujer del ministro: - Similarity: 0.6070965623855591\n",
      "Project: Midnight Express: - Similarity: 0.6158141088485718\n",
      "Project: Is This Love?: - Similarity: 0.6051907634735108\n",
      "Project: Crime Doctor: - Similarity: 0.6061662030220032\n",
      "Project: The Clearing: - Similarity: 0.6014985036849976\n"
     ]
    }
   ],
   "source": [
    "for similarity in project_similarities:\n",
    "    print(\"Project: {0}: - Similarity: {1}\".format(similarity[0][\"name\"], similarity[1]))"
   ]
  },
  {
   "cell_type": "code",
   "execution_count": null,
   "metadata": {
    "collapsed": true
   },
   "outputs": [],
   "source": []
  }
 ],
 "metadata": {
  "kernelspec": {
   "display_name": "Python 3",
   "language": "python",
   "name": "python3"
  },
  "language_info": {
   "codemirror_mode": {
    "name": "ipython",
    "version": 3
   },
   "file_extension": ".py",
   "mimetype": "text/x-python",
   "name": "python",
   "nbconvert_exporter": "python",
   "pygments_lexer": "ipython3",
   "version": "3.5.3"
  }
 },
 "nbformat": 4,
 "nbformat_minor": 0
}
