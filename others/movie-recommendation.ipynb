{
 "cells": [
  {
   "cell_type": "markdown",
   "metadata": {},
   "source": [
    "# Importación de librerías y módulos"
   ]
  },
  {
   "cell_type": "code",
   "execution_count": 1,
   "metadata": {
    "collapsed": false
   },
   "outputs": [
    {
     "name": "stderr",
     "output_type": "stream",
     "text": [
      "C:\\Users\\yazquez\\Anaconda3\\lib\\site-packages\\gensim\\utils.py:855: UserWarning: detected Windows; aliasing chunkize to chunkize_serial\n  warnings.warn(\"detected Windows; aliasing chunkize to chunkize_serial\")\n"
     ]
    }
   ],
   "source": [
    "import nltk\n",
    "import json\n",
    "from nltk.tokenize import RegexpTokenizer\n",
    "from nltk.corpus import stopwords\n",
    "from nltk.stem import SnowballStemmer\n",
    "from gensim import corpora, models, similarities"
   ]
  },
  {
   "cell_type": "markdown",
   "metadata": {},
   "source": [
    "## Carga de los datos\n",
    "\n",
    "Funcion para cargar las sinopsis de las películas y los metadados de las mismas (género, pais, etc). Nos quedaremos con las películas para las cuales tengamos tanto los metadatos como la sinpsis. La lista de películas será un objeto de tipo **list** y los datos de cada película un diccionario."
   ]
  },
  {
   "cell_type": "code",
   "execution_count": 2,
   "metadata": {
    "collapsed": true
   },
   "outputs": [],
   "source": [
    "def load_movies(max_movies=90000):\n",
    "    def load_plot_summaries():\n",
    "        # plot_summaries_file = open(\"data/plot_summaries.fake.txt\", \"r\")\n",
    "        plot_summaries_file = open(\"data/plot_summaries.txt\", \"r\", encoding=\"utf8\")\n",
    "        plot_summaries = dict()\n",
    "        for plot_summary_line in plot_summaries_file:\n",
    "            plot_summary_data = plot_summary_line.split('\\t')\n",
    "            # Summaries structure\n",
    "            # [0] Wikipedia movie ID\n",
    "            # [1] Summary plot\n",
    "            plot_summary = dict()\n",
    "            plot_summary['id'] = plot_summary_data[0]\n",
    "            plot_summary['summary'] = plot_summary_data[1]\n",
    "\n",
    "            plot_summaries[plot_summary['id']] = plot_summary\n",
    "\n",
    "        return plot_summaries\n",
    "\n",
    "    print(\"Cargando datos de peliculas...\")\n",
    "\n",
    "    plot_summaries = load_plot_summaries()\n",
    "\n",
    "    # metadata_file = open(\"data/movie.metadata.fake.tsv\", encoding=\"utf8\")\n",
    "    metadata_file = open(\"data/movie.metadata.tsv\", \"r\", encoding=\"utf8\")\n",
    "    movies = []\n",
    "\n",
    "    movies_count = 0\n",
    "\n",
    "    for metadata_line in metadata_file:\n",
    "        movie_metadata = metadata_line.split('\\t')\n",
    "\n",
    "        # Metadata structure\n",
    "        # [0] Wikipedia movie ID\n",
    "        # [1] Freebase movie ID\n",
    "        # [2] Movie name\n",
    "        # [3] Movie release date\n",
    "        # [4] Movie box office revenue\n",
    "        # [5] Movie runtime\n",
    "        # [6] Movie languages (Freebase ID:name tuples)\n",
    "        # [7] Movie countries (Freebase ID:name tuples)\n",
    "        # [8] Movie genres (Freebase ID:name tuples)\n",
    "\n",
    "        id = movie_metadata[0]\n",
    "\n",
    "        # Añadimos la pelicula solo si tiene sinopsis, incluimos una lista con las claves de los generos\n",
    "        if (id in plot_summaries) & (movies_count < max_movies):\n",
    "            movies_count += 1\n",
    "            movie = dict()\n",
    "            movie['id'] = id\n",
    "            movie['name'] = movie_metadata[2]\n",
    "            movie['date'] = movie_metadata[3]\n",
    "            movie['genres'] = list(json.loads(movie_metadata[8].replace(\"\\\"\\\"\", \"\\\"\").replace(\"\\\"{\", \"{\").replace(\"}\\\"\", \"}\")).keys())\n",
    "            movie['summary'] = plot_summaries[id].get('summary')\n",
    "            movies.append(movie)\n",
    "\n",
    "    print(\"Número de películas cargadas:\", len(movies))\n",
    "    \n",
    "    return movies"
   ]
  },
  {
   "cell_type": "markdown",
   "metadata": {},
   "source": [
    "Usando la funcíon anterior cargamos los datos, dado que el proceso es bastante pesado solo cargaremos un subconjunto de las mismas"
   ]
  },
  {
   "cell_type": "code",
   "execution_count": 3,
   "metadata": {
    "collapsed": false
   },
   "outputs": [
    {
     "name": "stdout",
     "output_type": "stream",
     "text": [
      "Cargando datos de peliculas...\n",
      "Número de películas cargadas: 100\n"
     ]
    }
   ],
   "source": [
    "movies = load_movies(100)"
   ]
  },
  {
   "cell_type": "markdown",
   "metadata": {},
   "source": [
    "# Procesado de las sinópsis\n",
    "\n",
    "A continuación procesamos las sinopsis, quedándonos con las palabras diferentes que encontramos en cada una de ellas, adicionalmente las vamos a transformar en sus raices (stemmer) y obviaremos las **stopwords** y los nomrbres propios, dado que no aportan significado.\n",
    "\n",
    "Primero definimos una función para hacerlo"
   ]
  },
  {
   "cell_type": "code",
   "execution_count": 4,
   "metadata": {
    "collapsed": true
   },
   "outputs": [],
   "source": [
    "def get_global_texts(movies):\n",
    "    def get_words(text):\n",
    "        def add_word(word):\n",
    "            word = word.lower()\n",
    "            if word not in stop_words:\n",
    "                words.append(stemmer.stem(word))\n",
    "\n",
    "\n",
    "        words = []\n",
    "        for chunk in nltk.ne_chunk(nltk.pos_tag(tokenizer.tokenize(text))):\n",
    "            # nltk.word_tokenize    devuelve la lista de palabras que forman la frase (tokenización)\n",
    "            # nltk.pos_tag          devuelve el part of speech (categoría) correspondiente a la palabra introducida\n",
    "            # nltk.ne_chunk         devuelve la etiqueta correspondiente al part of speech (POC)\n",
    "            try:\n",
    "                if chunk.label() == 'PERSON':\n",
    "                    # PERSON es un POC asociado a los nombres propios, los cuales no vamos a añadir\n",
    "                    pass\n",
    "                else:\n",
    "                    for c in chunk.leaves():\n",
    "                        add_word(c[0])\n",
    "            except AttributeError:\n",
    "                add_word(chunk[0])\n",
    "\n",
    "        return words\n",
    "\n",
    "    print(\"Extrayendo palabras de los textos...\")\n",
    "    tokenizer = RegexpTokenizer(r'\\w+')\n",
    "    stop_words = set(stopwords.words('english'))\n",
    "    stemmer = SnowballStemmer(\"english\")\n",
    "\n",
    "    global_texts = []\n",
    "\n",
    "    [global_texts.append(get_words(movie['summary'])) for movie in movies]\n",
    "\n",
    "    return global_texts"
   ]
  },
  {
   "cell_type": "markdown",
   "metadata": {},
   "source": [
    "Y la ejecutamos, tendremos una lista de listas, en la que para cada película tendremos las palabras que definen su sinopsis"
   ]
  },
  {
   "cell_type": "code",
   "execution_count": 5,
   "metadata": {
    "collapsed": false
   },
   "outputs": [
    {
     "name": "stdout",
     "output_type": "stream",
     "text": [
      "Extrayendo palabras de los textos...\n"
     ]
    }
   ],
   "source": [
    "global_texts = get_global_texts(movies)"
   ]
  },
  {
   "cell_type": "markdown",
   "metadata": {},
   "source": [
    "A modo de ejemplo, mostramos las 5 primeras entradas de la primera pelicula"
   ]
  },
  {
   "cell_type": "code",
   "execution_count": 6,
   "metadata": {
    "collapsed": false
   },
   "outputs": [
    {
     "data": {
      "text/plain": [
       "['set', 'second', 'half', '22nd', 'centuri']"
      ]
     },
     "execution_count": 6,
     "metadata": {},
     "output_type": "execute_result"
    }
   ],
   "source": [
    "global_texts[0][:5]"
   ]
  },
  {
   "cell_type": "markdown",
   "metadata": {},
   "source": [
    "# Creación del diccionaro\n",
    "\n",
    "El diccionario está formado por la concatenación de todas las palabras que aparecen en alguna sinopsis (modo texto) de alguna de las peliculas. Básicamente esta función mapea cada palabra única con su identificador. Es decir, si tenemos N palabras, lo que conseguiremos al final es que cada película sea representada mediante un vector en un  espacio de N dimensiones.\n",
    "\n",
    "Para ello, partiendo de la lista creada en el paso anterior, usaremos la función **corpora** del paquete **gensim**. "
   ]
  },
  {
   "cell_type": "code",
   "execution_count": 7,
   "metadata": {
    "collapsed": false
   },
   "outputs": [
    {
     "data": {
      "text/plain": [
       "<gensim.corpora.dictionary.Dictionary at 0x1c3abff7400>"
      ]
     },
     "execution_count": 7,
     "metadata": {},
     "output_type": "execute_result"
    }
   ],
   "source": [
    "dictionary = corpora.Dictionary(global_texts)\n",
    "dictionary"
   ]
  },
  {
   "cell_type": "markdown",
   "metadata": {},
   "source": [
    "# Creación del Corpus\n",
    "\n",
    "Crearemos un corpus con la colección de todos los resúmenes previamente pre-procesados y transformados usando el diccionario."
   ]
  },
  {
   "cell_type": "code",
   "execution_count": 8,
   "metadata": {
    "collapsed": false
   },
   "outputs": [],
   "source": [
    "corpus = [dictionary.doc2bow(text) for text in global_texts]"
   ]
  },
  {
   "cell_type": "markdown",
   "metadata": {},
   "source": [
    "A modo de ejemplo, mostramos las 5 primeras entradas de la primera pelicula"
   ]
  },
  {
   "cell_type": "code",
   "execution_count": 9,
   "metadata": {
    "collapsed": false
   },
   "outputs": [
    {
     "data": {
      "text/plain": [
       "[(0, 1), (1, 5), (2, 2), (3, 1), (4, 1)]"
      ]
     },
     "execution_count": 9,
     "metadata": {},
     "output_type": "execute_result"
    }
   ],
   "source": [
    "corpus[0][:5]"
   ]
  },
  {
   "cell_type": "markdown",
   "metadata": {
    "collapsed": true
   },
   "source": [
    "# Creación del TFID\n",
    "\n",
    "Un alto peso en tf-idf se alcanza por una alta frecuencia en un Documento y una baja frecuencia en toda la colección de documentos; los pesos tienden a filtrar términos comunes. Para la creación de este corpus, vamos a usar la función **TfidfModel** del objeto **models** (perteneciente a la librería *gemsim*)."
   ]
  },
  {
   "cell_type": "code",
   "execution_count": 10,
   "metadata": {
    "collapsed": false
   },
   "outputs": [
    {
     "name": "stdout",
     "output_type": "stream",
     "text": [
      "Creación del Modelo Espacio-Vector Tf-Idf\n"
     ]
    },
    {
     "data": {
      "text/plain": [
       "<gensim.interfaces.TransformedCorpus at 0x1c3b3852358>"
      ]
     },
     "execution_count": 10,
     "metadata": {},
     "output_type": "execute_result"
    }
   ],
   "source": [
    "def create_tfidf(corpus):\n",
    "    print(\"Creación del Modelo Espacio-Vector Tf-Idf\")\n",
    "    tfidf = models.TfidfModel(corpus)\n",
    "    corpus_tfidf = tfidf[corpus]\n",
    "    return corpus_tfidf\n",
    "\n",
    "corpus_tfidf = create_tfidf(corpus)\n",
    "corpus_tfidf"
   ]
  },
  {
   "cell_type": "markdown",
   "metadata": {},
   "source": [
    "# Creación del Modelo LSI\n",
    "\n",
    "Para ello vamos a definir una función auxiliar y posteriormente la invocaremos, además de crear el modelo LSI, vamos a usarlo para crear la matriz de similitudes. Antes de nada vamos a definir un par de valores clave para controlar el proceso.\n",
    "\n",
    " * **TOTAL_LSA_TOPICS**\n",
    "Limita el numero de terminos, por supuesto tiene que ver con el tamaño de la mustra, mientras más peliculas tengamos mas terminos tendremos y por tanto la reduccion seria mayor, estamos clusterizando las peliculas en TOTAL_TOPICOS_LSA clusters\n",
    "\n",
    "* **SIMILARITY_THRESHOLD** Umbral de similitud que se debe superar para que dos películas se consideren similares\n",
    "\n",
    "\n",
    "Damos valor a estos parámetros, como el número de películas que vamos a usar en el ejemplo es pequeño, vamos a ajustar el umbral a solo 0.4."
   ]
  },
  {
   "cell_type": "code",
   "execution_count": 11,
   "metadata": {
    "collapsed": true
   },
   "outputs": [],
   "source": [
    "TOTAL_LSA_TOPICS = 500\n",
    "SIMILARITY_THRESHOLD = 0.4"
   ]
  },
  {
   "cell_type": "code",
   "execution_count": 12,
   "metadata": {
    "collapsed": false
   },
   "outputs": [
    {
     "name": "stdout",
     "output_type": "stream",
     "text": [
      "Creación del modelo LSA: Latent Semantic Analysis\n"
     ]
    }
   ],
   "source": [
    "def create_lsi_model(corpus_tfidf, dictionary, total_lsa_topics):\n",
    "    print(\"Creación del modelo LSA: Latent Semantic Analysis\")\n",
    "    lsi = models.LsiModel(corpus_tfidf, id2word=dictionary, num_topics=total_lsa_topics)\n",
    "    similarity_matrix = similarities.MatrixSimilarity(lsi[corpus_tfidf])\n",
    "    return lsi, similarity_matrix\n",
    "\n",
    "(lsi, similarity_matrix) = create_lsi_model(corpus_tfidf, dictionary, TOTAL_LSA_TOPICS)"
   ]
  },
  {
   "cell_type": "markdown",
   "metadata": {
    "collapsed": true
   },
   "source": [
    "# Creación del modelo de similitud\n",
    "\n",
    "Una vez generados todos los artefactos (diccionario, corpus, modelo, etc), pasamos a crear la lista de peliculas similares,"
   ]
  },
  {
   "cell_type": "markdown",
   "metadata": {},
   "source": [
    "La similitud la vamos a calcular recorriendo la lista de peliculas, en realidad su corpus TfIdf, y usando la matriz similitudes llamaremos a una función auxiliar que determina cuales son las películas que superan el umbral de similitud, esto lo haremos en una función auxiliar, una vez calculada esta lista, la insertaremos en la información de la película que está siendo analizada."
   ]
  },
  {
   "cell_type": "code",
   "execution_count": 13,
   "metadata": {
    "collapsed": true
   },
   "outputs": [],
   "source": [
    "def create_similitary_model(movies, corpus_tfidf, lsi, similarity_matrix, similarity_threshold):\n",
    "    print(\"Creando enlaces de similitud entre películas\")\n",
    "    for i, doc in enumerate(corpus_tfidf):\n",
    "        vec_lsi = lsi[doc]\n",
    "        similarity_index = similarity_matrix[vec_lsi]\n",
    "        movies[i]['similars'] = search_similitary_movies(movies[i], movies, similarity_index, similarity_threshold)"
   ]
  },
  {
   "cell_type": "markdown",
   "metadata": {
    "collapsed": true
   },
   "source": [
    "Definimos la función auxiliar que dada una película, nos determina la lista de peliculas que superan el umbral de similitud, como variante vamos a bonificar las películas que sean del mismo género que la analizada, de este modo, además del indice de similitud calcularo anteriormente, vamos a sumar 0.1 por cada genero coincidente. Así para dos peliculas con una similutud de digamos 0.34 y un genero en común, obtendriamos una similitud de 0.44. Para cada pelicula que supere el umbral, almacenaremos el índice dentro de la matriz de peliculas (para localizarla posteriormente), el grado de similitud y los generos en los que coinciden. "
   ]
  },
  {
   "cell_type": "code",
   "execution_count": 14,
   "metadata": {
    "collapsed": true
   },
   "outputs": [],
   "source": [
    "def search_similitary_movies(movie, movies, similarity_index, similarity_threshold):\n",
    "    def compare_genres(movie1, movie2):\n",
    "        return len(set(movie1['genres']).intersection(movie2['genres']))\n",
    "\n",
    "    similar_movies = []\n",
    "    for j, elemento in enumerate(movies):\n",
    "        if (movies[j]['id'] != movie['id']):  # Para que no se incluya a si misma\n",
    "            common_genres = compare_genres(movie, movies[j])\n",
    "            similarity = similarity_index[j] + common_genres / 10\n",
    "            if (similarity > similarity_threshold):\n",
    "                similar_movies.append((j, similarity, common_genres ))\n",
    "\n",
    "    return sorted(similar_movies, key=lambda item: -item[1])"
   ]
  },
  {
   "cell_type": "markdown",
   "metadata": {
    "collapsed": true
   },
   "source": [
    "A continuación ejecutamos la función."
   ]
  },
  {
   "cell_type": "code",
   "execution_count": 15,
   "metadata": {
    "collapsed": false
   },
   "outputs": [
    {
     "name": "stdout",
     "output_type": "stream",
     "text": [
      "Creando enlaces de similitud entre películas\n"
     ]
    }
   ],
   "source": [
    "create_similitary_model(movies, corpus_tfidf, lsi, similarity_matrix, SIMILARITY_THRESHOLD)"
   ]
  },
  {
   "cell_type": "markdown",
   "metadata": {
    "collapsed": true
   },
   "source": [
    "# Prueba del algoritmo\n",
    "\n",
    "Finalmenete mostramos la lista de películas con sus similitudes. Primero definimos una función auxiliar para sacar por pantalla los datos de una película dado su indice en la lista de películas"
   ]
  },
  {
   "cell_type": "code",
   "execution_count": 16,
   "metadata": {
    "collapsed": true
   },
   "outputs": [],
   "source": [
    "def show_coincidences(movie_index):\n",
    "    print(\"\\n====================================================================================\")\n",
    "    print(\"Pelicula Id = \", movies[movie_index]['id'], \"  Index=\", movie_index, movies[movie_index]['name'])\n",
    "    for j, similar in enumerate(movies[movie_index]['similars']):\n",
    "        similar_movie_index, similarity, common_genres = similar\n",
    "        print(\"Similitud:\", similarity, \", Generos comunes (id): \", common_genres, \", Titulo:\", movies[similar_movie_index]['name'])"
   ]
  },
  {
   "cell_type": "markdown",
   "metadata": {
    "collapsed": true
   },
   "source": [
    "Y la ejecutamos para cada una de las películas de nuestra lista"
   ]
  },
  {
   "cell_type": "code",
   "execution_count": 17,
   "metadata": {
    "collapsed": false
   },
   "outputs": [
    {
     "name": "stdout",
     "output_type": "stream",
     "text": [
      "\n",
      "====================================================================================\n",
      "Pelicula Id =  975900   Index= 0 Ghosts of Mars\n",
      "\n",
      "====================================================================================\n",
      "Pelicula Id =  9363483   Index= 1 White Of The Eye\n",
      "\n",
      "====================================================================================\n",
      "Pelicula Id =  261236   Index= 2 A Woman in Flames\n",
      "\n",
      "====================================================================================\n",
      "Pelicula Id =  18998739   Index= 3 The Sorcerer's Apprentice\n",
      "\n",
      "====================================================================================\n",
      "Pelicula Id =  6631279   Index= 4 Little city\n",
      "Similitud: 0.526625141501 , Generos comunes (id):  5 , Titulo: The Naked Kitchen\n",
      "\n",
      "====================================================================================\n",
      "Pelicula Id =  171005   Index= 5 Henry V\n",
      "\n",
      "====================================================================================\n",
      "Pelicula Id =  18296435   Index= 6 Aaah Belinda\n",
      "\n",
      "====================================================================================\n",
      "Pelicula Id =  11250635   Index= 7 The Mechanical Monsters\n",
      "\n",
      "====================================================================================\n",
      "Pelicula Id =  77856   Index= 8 Mary Poppins\n",
      "\n",
      "====================================================================================\n",
      "Pelicula Id =  32456683   Index= 9 Die Fahne von Kriwoj Rog\n",
      "\n",
      "====================================================================================\n",
      "Pelicula Id =  21926710   Index= 10 White on Rice\n",
      "Similitud: 0.440527589619 , Generos comunes (id):  4 , Titulo: Siam Sunset\n",
      "\n",
      "====================================================================================\n",
      "Pelicula Id =  20604092   Index= 11 Anbu Thozhi\n",
      "\n",
      "====================================================================================\n",
      "Pelicula Id =  156558   Index= 12 Baby Boy\n",
      "\n",
      "====================================================================================\n",
      "Pelicula Id =  11448183   Index= 13 Bindiya Chamkegi\n",
      "\n",
      "====================================================================================\n",
      "Pelicula Id =  9633533   Index= 14 Vandanam\n",
      "\n",
      "====================================================================================\n",
      "Pelicula Id =  29528534   Index= 15 Anokha Rishta\n",
      "Similitud: 0.674740707874 , Generos comunes (id):  6 , Titulo: Minsaara Kanavu\n",
      "Similitud: 0.438453038782 , Generos comunes (id):  4 , Titulo: The World of Geisha\n",
      "Similitud: 0.417085798085 , Generos comunes (id):  4 , Titulo: The Naked Kitchen\n",
      "\n",
      "====================================================================================\n",
      "Pelicula Id =  29772142   Index= 16 Karayilekku Oru Kadal Dooram\n",
      "\n",
      "====================================================================================\n",
      "Pelicula Id =  26067101   Index= 17 Siam Sunset\n",
      "Similitud: 0.440527589619 , Generos comunes (id):  4 , Titulo: White on Rice\n",
      "\n",
      "====================================================================================\n",
      "Pelicula Id =  26623942   Index= 18 Kausthubham\n",
      "\n",
      "====================================================================================\n",
      "Pelicula Id =  9548445   Index= 19 Archie: To Riverdale and Back Again\n",
      "\n",
      "====================================================================================\n",
      "Pelicula Id =  2487170   Index= 20 Troops\n",
      "\n",
      "====================================================================================\n",
      "Pelicula Id =  25960460   Index= 21 Daddy and Them\n",
      "\n",
      "====================================================================================\n",
      "Pelicula Id =  261237   Index= 22 The Gods Must Be Crazy\n",
      "\n",
      "====================================================================================\n",
      "Pelicula Id =  12008535   Index= 23 Rudo y Cursi\n",
      "\n",
      "====================================================================================\n",
      "Pelicula Id =  4951456   Index= 24 Kinjite: Forbidden Subjects\n",
      "\n",
      "====================================================================================\n",
      "Pelicula Id =  5708633   Index= 25 The Great New Wonderful\n",
      "\n",
      "====================================================================================\n",
      "Pelicula Id =  12053509   Index= 26 Loverboy\n",
      "\n",
      "====================================================================================\n",
      "Pelicula Id =  29198000   Index= 27 Chandra Mukhi\n",
      "\n",
      "====================================================================================\n",
      "Pelicula Id =  1369204   Index= 28 Juarez\n",
      "\n",
      "====================================================================================\n",
      "Pelicula Id =  12371532   Index= 29 Chasing Ghosts: Beyond the Arcade\n",
      "\n",
      "====================================================================================\n",
      "Pelicula Id =  32104837   Index= 30 It Came Upon the Midnight Clear\n",
      "\n",
      "====================================================================================\n",
      "Pelicula Id =  2647998   Index= 31 The Human Tornado\n",
      "\n",
      "====================================================================================\n",
      "Pelicula Id =  1254263   Index= 32 Shivers\n",
      "\n",
      "====================================================================================\n",
      "Pelicula Id =  20944359   Index= 33 Adventurer's Fate\n",
      "\n",
      "====================================================================================\n",
      "Pelicula Id =  11353896   Index= 34 Zindagi\n",
      "\n",
      "====================================================================================\n",
      "Pelicula Id =  273431   Index= 35 Terrorama\n",
      "\n",
      "====================================================================================\n",
      "Pelicula Id =  16686643   Index= 36 One Small Step: The Story of the Space Chimps\n",
      "\n",
      "====================================================================================\n",
      "Pelicula Id =  7028314   Index= 37 The Little Hut\n",
      "\n",
      "====================================================================================\n",
      "Pelicula Id =  31156641   Index= 38 Nariman\n",
      "\n",
      "====================================================================================\n",
      "Pelicula Id =  19929835   Index= 39 Aftershock: Beyond the Civil War\n",
      "\n",
      "====================================================================================\n",
      "Pelicula Id =  25413122   Index= 40 Drums in the Deep South\n",
      "\n",
      "====================================================================================\n",
      "Pelicula Id =  5664529   Index= 41 Vixen!\n",
      "\n",
      "====================================================================================\n",
      "Pelicula Id =  5894429   Index= 42 Closing the Ring\n",
      "\n",
      "====================================================================================\n",
      "Pelicula Id =  12788657   Index= 43 The Boston Strangler\n",
      "Similitud: 0.415284638852 , Generos comunes (id):  4 , Titulo: ...And Justice for All\n",
      "\n",
      "====================================================================================\n",
      "Pelicula Id =  27556929   Index= 44 Deadly Voyage\n",
      "Similitud: 0.543747439981 , Generos comunes (id):  5 , Titulo: The Hero: Love Story of a Spy\n",
      "\n",
      "====================================================================================\n",
      "Pelicula Id =  4300418   Index= 45 The Hero: Love Story of a Spy\n",
      "Similitud: 0.543747439981 , Generos comunes (id):  5 , Titulo: Deadly Voyage\n",
      "\n",
      "====================================================================================\n",
      "Pelicula Id =  29766415   Index= 46 Donald's Crime\n",
      "\n",
      "====================================================================================\n",
      "Pelicula Id =  30246289   Index= 47 33 Scenes from Life\n",
      "\n",
      "====================================================================================\n",
      "Pelicula Id =  9390791   Index= 48 Hermanas\n",
      "\n",
      "====================================================================================\n",
      "Pelicula Id =  29375144   Index= 49 The High Cost of Living\n",
      "\n",
      "====================================================================================\n",
      "Pelicula Id =  24196090   Index= 50 The World of Geisha\n",
      "Similitud: 0.438453038782 , Generos comunes (id):  4 , Titulo: Anokha Rishta\n",
      "Similitud: 0.432475411892 , Generos comunes (id):  4 , Titulo: Minsaara Kanavu\n",
      "Similitud: 0.422367686033 , Generos comunes (id):  4 , Titulo: The Naked Kitchen\n",
      "\n",
      "====================================================================================\n",
      "Pelicula Id =  28028248   Index= 51 The House That Drips Blood on Alex\n",
      "\n",
      "====================================================================================\n",
      "Pelicula Id =  10419077   Index= 52 Raampur Ka Lakshman\n",
      "\n",
      "====================================================================================\n",
      "Pelicula Id =  2154704   Index= 53 Choke Canyon\n",
      "\n",
      "====================================================================================\n",
      "Pelicula Id =  28301986   Index= 54 Dig That Uranium\n",
      "\n",
      "====================================================================================\n",
      "Pelicula Id =  33059372   Index= 55 ChromeSkull: Laid to Rest 2\n",
      "\n",
      "====================================================================================\n",
      "Pelicula Id =  3740032   Index= 56 Desperate\n",
      "\n",
      "====================================================================================\n",
      "Pelicula Id =  2659373   Index= 57 The Iron Maiden\n",
      "\n",
      "====================================================================================\n",
      "Pelicula Id =  3873713   Index= 58 Lee Dae-ro Can't Die\n",
      "\n",
      "====================================================================================\n",
      "Pelicula Id =  9380065   Index= 59 Alien Express\n",
      "\n",
      "====================================================================================\n",
      "Pelicula Id =  164387   Index= 60 ...And Justice for All\n",
      "Similitud: 0.452269633859 , Generos comunes (id):  4 , Titulo: Things to Do in Denver When You're Dead\n",
      "Similitud: 0.415284638852 , Generos comunes (id):  4 , Titulo: The Boston Strangler\n",
      "Similitud: 0.406160072982 , Generos comunes (id):  4 , Titulo: The Lone Wolf Meets a Lady\n",
      "\n",
      "====================================================================================\n",
      "Pelicula Id =  28937087   Index= 61 Children of Glory\n",
      "\n",
      "====================================================================================\n",
      "Pelicula Id =  24282217   Index= 62 The Naked Kitchen\n",
      "Similitud: 0.526625141501 , Generos comunes (id):  5 , Titulo: Little city\n",
      "Similitud: 0.425536203757 , Generos comunes (id):  4 , Titulo: Minsaara Kanavu\n",
      "Similitud: 0.422367686033 , Generos comunes (id):  4 , Titulo: The World of Geisha\n",
      "Similitud: 0.417085798085 , Generos comunes (id):  4 , Titulo: Anokha Rishta\n",
      "\n",
      "====================================================================================\n",
      "Pelicula Id =  7767613   Index= 63 Star!\n",
      "\n",
      "====================================================================================\n",
      "Pelicula Id =  24863901   Index= 64 1 a Minute\n",
      "\n",
      "====================================================================================\n",
      "Pelicula Id =  22985953   Index= 65 Beachhead\n",
      "\n",
      "====================================================================================\n",
      "Pelicula Id =  1630107   Index= 66 A Zed & Two Noughts\n",
      "\n",
      "====================================================================================\n",
      "Pelicula Id =  11717027   Index= 67 Is There a Doctor in the Mouse?\n",
      "\n",
      "====================================================================================\n",
      "Pelicula Id =  10628777   Index= 68 Peddarayudu\n",
      "\n",
      "====================================================================================\n",
      "Pelicula Id =  3550323   Index= 69 Things to Do in Denver When You're Dead\n",
      "Similitud: 0.452269633859 , Generos comunes (id):  4 , Titulo: ...And Justice for All\n",
      "\n",
      "====================================================================================\n",
      "Pelicula Id =  1072373   Index= 70 Minsaara Kanavu\n",
      "Similitud: 0.674740707874 , Generos comunes (id):  6 , Titulo: Anokha Rishta\n",
      "Similitud: 0.432475411892 , Generos comunes (id):  4 , Titulo: The World of Geisha\n",
      "Similitud: 0.425536203757 , Generos comunes (id):  4 , Titulo: The Naked Kitchen\n",
      "\n",
      "====================================================================================\n",
      "Pelicula Id =  1765938   Index= 71 Convoy\n",
      "\n",
      "====================================================================================\n",
      "Pelicula Id =  7460227   Index= 72 The Bridge\n",
      "\n",
      "====================================================================================\n",
      "Pelicula Id =  21878654   Index= 73 SpongeBob vs. The Big One\n",
      "\n",
      "====================================================================================\n",
      "Pelicula Id =  18902861   Index= 74 14 Going on 30\n",
      "\n",
      "====================================================================================\n",
      "Pelicula Id =  20204625   Index= 75 Grampy's Indoor Outing\n",
      "\n",
      "====================================================================================\n",
      "Pelicula Id =  1305819   Index= 76 C.H.U.D.\n",
      "\n",
      "====================================================================================\n",
      "Pelicula Id =  12438366   Index= 77 Mehndi Waley Hath\n",
      "\n",
      "====================================================================================\n",
      "Pelicula Id =  6752142   Index= 78 Good Morning Miss Dove\n",
      "\n",
      "====================================================================================\n",
      "Pelicula Id =  9169526   Index= 79 Las Boludas\n",
      "\n",
      "====================================================================================\n",
      "Pelicula Id =  1031231   Index= 80 Black Cat, White Cat\n",
      "\n",
      "====================================================================================\n",
      "Pelicula Id =  180917   Index= 81 Valiant Is the Word for Carrie\n",
      "\n",
      "====================================================================================\n",
      "Pelicula Id =  6305925   Index= 82 The Astronaut Farmer\n",
      "\n",
      "====================================================================================\n",
      "Pelicula Id =  196176   Index= 83 Straw Dogs\n",
      "\n",
      "====================================================================================\n",
      "Pelicula Id =  26600932   Index= 84 Oru Black And White Kudumbam\n",
      "\n",
      "====================================================================================\n",
      "Pelicula Id =  33872851   Index= 85 The Lone Wolf Meets a Lady\n",
      "Similitud: 0.406160072982 , Generos comunes (id):  4 , Titulo: ...And Justice for All\n",
      "\n",
      "====================================================================================\n",
      "Pelicula Id =  2509881   Index= 86 Critters 3\n",
      "\n",
      "====================================================================================\n",
      "Pelicula Id =  19569910   Index= 87 Time of Eve\n",
      "\n",
      "====================================================================================\n",
      "Pelicula Id =  12832450   Index= 88 Cipher in the snow\n",
      "\n",
      "====================================================================================\n",
      "Pelicula Id =  13091003   Index= 89 Kibera Kid\n",
      "\n",
      "====================================================================================\n",
      "Pelicula Id =  30437887   Index= 90 Thiruthalvaadi\n",
      "\n",
      "====================================================================================\n",
      "Pelicula Id =  26137128   Index= 91 The Bone Snatcher\n",
      "\n",
      "====================================================================================\n",
      "Pelicula Id =  34470083   Index= 92 Rollo and the Spirit of the Woods\n",
      "\n",
      "====================================================================================\n",
      "Pelicula Id =  16304395   Index= 93 Enemy Territory\n",
      "\n",
      "====================================================================================\n",
      "Pelicula Id =  748616   Index= 94 Spring, Summer, Fall, Winter... and Spring\n",
      "\n",
      "====================================================================================\n",
      "Pelicula Id =  36151270   Index= 95 Agneekaal\n",
      "\n",
      "====================================================================================\n",
      "Pelicula Id =  33956317   Index= 96 The Catastrophe\n",
      "\n",
      "====================================================================================\n",
      "Pelicula Id =  336846   Index= 97 Grease\n",
      "\n",
      "====================================================================================\n",
      "Pelicula Id =  27463222   Index= 98 Vanishing on 7th Street\n",
      "\n",
      "====================================================================================\n",
      "Pelicula Id =  3249964   Index= 99 House by the River\n"
     ]
    }
   ],
   "source": [
    "for i, e in enumerate(movies):\n",
    "    show_coincidences(i)"
   ]
  }
 ],
 "metadata": {
  "kernelspec": {
   "display_name": "Python 3",
   "language": "python",
   "name": "python3"
  },
  "language_info": {
   "codemirror_mode": {
    "name": "ipython",
    "version": 3.0
   },
   "file_extension": ".py",
   "mimetype": "text/x-python",
   "name": "python",
   "nbconvert_exporter": "python",
   "pygments_lexer": "ipython3",
   "version": "3.5.3"
  }
 },
 "nbformat": 4,
 "nbformat_minor": 0
}